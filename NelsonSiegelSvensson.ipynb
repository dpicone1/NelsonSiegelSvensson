{
 "cells": [
  {
   "cell_type": "markdown",
   "metadata": {},
   "source": [
    "# Nelson Siegel Svensson - Introduction"
   ]
  },
  {
   "cell_type": "markdown",
   "metadata": {},
   "source": [
    "Note 02 on Robust Calibration to follow"
   ]
  },
  {
   "cell_type": "markdown",
   "metadata": {},
   "source": [
    "The Nelson-Siegel and its extension Nelson-Siegel-Svensson are two of the most popular yield curve models\n",
    "\n",
    "They are very useful when we do not have nicely spaced bond quotes data to build the discounting factors.\n",
    "\n",
    "Sometimes up until certain maturities there are two many bonds compared with the number of maturities, and not sufficiently bonds thereafter. Very often, there are multiple bonds maturing in the same months."
   ]
  },
  {
   "cell_type": "markdown",
   "metadata": {},
   "source": [
    "If what we need to price a bond is the discounting factor \n",
    "\n",
    "\\begin{equation}\n",
    "Z(0,t) =  exp^{-r(0,t)t}\n",
    "\\end{equation}\n",
    "\n",
    "then we can postulate a parametric function for the zero rate  $r(0,t)$, and use bond prices to estimate those parameters."
   ]
  },
  {
   "cell_type": "markdown",
   "metadata": {},
   "source": [
    "In the Nelson Siegel Svensson model, the zero rate follows the following parametric equation:\n",
    "\n",
    "\\begin{equation}\n",
    "r(0,t) = \\beta_0 + \\left(\\beta_1 + \\beta_2\\right)\\left(\\frac{1-e^{\\left(\\frac{-t}{T_1}\\right)}}{t/T_1} \\right) -\n",
    "\\beta_2 \\left(e^{\\frac{-t}{T_1}} \\right)+ \n",
    "\\beta_3 \\left( \\frac{1-e^{\\left(\\frac{-t}{T_2}\\right)}}{t/T_2} -e^{\\frac{-t}{T_2}} \\right)\n",
    "\\end{equation}\n",
    "\n",
    "\n",
    "where:\n",
    "\n",
    "-  $r(0,t)$: zero rate with maturity $t$\n",
    "-  $\\beta_0$: level parameter, the long term rate\n",
    "-  $\\beta_1$: slope parameter, the spread short/long-term\n",
    "-  $\\beta_2$: first curvature or hump parameter\n",
    "-  $\\beta_3$: second curvature or hump parameter which allows for a better fit at long maturities\n",
    "\n",
    "-  $T_1$: scale parameter which affects both the slope and first curvature $\\beta_1$ and $\\beta_2$\n",
    "-  $T_2$: scale parameter for the second hump parameter $\\beta_3$"
   ]
  },
  {
   "cell_type": "markdown",
   "metadata": {},
   "source": [
    "The way we proceed is by selecting the given set of NSS's parameters which minimizes the following quantity\n",
    "\n",
    "$$ \\sum_{i=1}^{N}\\left(P^{i,NSS}(0,t)-P^{i}(0,t)\\right) $$\n",
    "\n",
    "\n",
    "where:\n",
    "\n",
    "$P^{i,NSS}(0,t)$  is the discounted value of the bond $i$ cash flows and\n",
    "\n",
    "$P^{i}(0,t)$ is dirty price (quoted clean price + accrued interest) of the same bond $i$\n",
    "\n",
    "$N$ is the number of bonds with quotes"
   ]
  },
  {
   "cell_type": "markdown",
   "metadata": {},
   "source": [
    "In this notebook, we want to try to calibrate the NSS parameters to a set of bond prices made available to us. The prices are old, infact they date back to december 1st 2000.\n",
    "\n",
    "There is a lot of research on the algos that should be used when calibrating the NSS model, and also on some of the issues and challenges, one being the multicollinearity, and a second the calibration results strongly depend on the starting values.\n",
    "\n",
    "However, as this is our first notebook on the topic, we are not going to use the most advanced algo, instead we are going to use the minimize object available in python via the library \"scipy.optimize\".\n",
    "\n",
    "One warning: When preparing this exercise the calibration results were often poor, and due to the starting  values. \n",
    "We plan to write a second notebook where we deal with the starting value issues, so to make our algo more robust and of practical use!"
   ]
  },
  {
   "cell_type": "markdown",
   "metadata": {},
   "source": [
    "We start by importing the python libraries we need"
   ]
  },
  {
   "cell_type": "code",
   "execution_count": 1,
   "metadata": {},
   "outputs": [],
   "source": [
    "import pandas as pd\n",
    "import numpy as np\n",
    "import matplotlib.pyplot as plt\n",
    "from scipy import optimize\n",
    "%matplotlib inline"
   ]
  },
  {
   "cell_type": "markdown",
   "metadata": {},
   "source": [
    "Let's import our data set:\n",
    "\n",
    "CashFlows and Prices"
   ]
  },
  {
   "cell_type": "code",
   "execution_count": 2,
   "metadata": {},
   "outputs": [
    {
     "name": "stdout",
     "output_type": "stream",
     "text": [
      "        Time  Bond1  Bond2  Bond3  Bond4  Bond5  Bond6  Bond7  Bond8  Bond9  \\\n",
      "0 2000-12-02      0      0      0      0      0      0      0      0      0   \n",
      "1 2000-12-03      0      0      0      0      0      0      0      0      0   \n",
      "\n",
      "    ...     Bond120  Bond121  Bond122  Bond123  Bond124  Bond125  Bond126  \\\n",
      "0   ...           0      0.0      0.0      0.0      0.0      0.0      0.0   \n",
      "1   ...           0      0.0      0.0      0.0      0.0      0.0      0.0   \n",
      "\n",
      "   Bond127  Bond128  Bond129  \n",
      "0      0.0      0.0      0.0  \n",
      "1      0.0      0.0      0.0  \n",
      "\n",
      "[2 rows x 130 columns]\n",
      "          Time  Bond1  Bond2  Bond3  Bond4  Bond5  Bond6  Bond7  Bond8  Bond9  \\\n",
      "211 2029-02-15      0      0      0      0      0      0      0      0      0   \n",
      "212 2029-08-15      0      0      0      0      0      0      0      0      0   \n",
      "\n",
      "       ...     Bond120  Bond121  Bond122  Bond123  Bond124  Bond125  Bond126  \\\n",
      "211    ...           0      0.0      0.0      0.0      0.0      0.0      0.0   \n",
      "212    ...           0      0.0      0.0      0.0      0.0      0.0      0.0   \n",
      "\n",
      "     Bond127  Bond128   Bond129  \n",
      "211      0.0  102.625    3.0625  \n",
      "212      0.0    0.000  103.0625  \n",
      "\n",
      "[2 rows x 130 columns]\n"
     ]
    }
   ],
   "source": [
    "CashFlows = pd.read_excel ('BondPrices_DB.xlsx', sheet_name='CashFlows')\n",
    "print (CashFlows.head(2))\n",
    "print (CashFlows.tail(2))"
   ]
  },
  {
   "cell_type": "markdown",
   "metadata": {},
   "source": [
    "Please also note that the time when bonds cash flows occur are not at constant intervals  "
   ]
  },
  {
   "cell_type": "code",
   "execution_count": 3,
   "metadata": {},
   "outputs": [
    {
     "name": "stdout",
     "output_type": "stream",
     "text": [
      "213\n",
      "130\n"
     ]
    }
   ],
   "source": [
    "row, col = CashFlows.shape\n",
    "print (row)\n",
    "print (col)\n",
    "# there are 129 bonds (columns), with 213 cash flows items (rows) "
   ]
  },
  {
   "cell_type": "code",
   "execution_count": 4,
   "metadata": {},
   "outputs": [
    {
     "name": "stdout",
     "output_type": "stream",
     "text": [
      "    Name  Dirty Price  Clean Price  AccruedInterest  Coupon   Maturity\n",
      "0  Bond1    99.897834    99.897834              0.0     0.0 2000-12-07\n",
      "1  Bond2    99.783604    99.783604              0.0     0.0 2000-12-14\n",
      "        Name  Dirty Price  Clean Price  AccruedInterest  Coupon   Maturity\n",
      "127  Bond128    94.943105    93.402344         1.540761   5.250 2029-02-15\n",
      "128  Bond129   107.766304   105.968750         1.797554   6.125 2029-08-15\n"
     ]
    }
   ],
   "source": [
    "# In this print: the first two bonds are Zero Coupon Bonds, whereas the last two are Coupon Bonds\n",
    "BondPrices = pd.read_excel (r'BondPrices_DB.xlsx', sheet_name='Prices')\n",
    "print (BondPrices.head(2))\n",
    "print (BondPrices.tail(2))"
   ]
  },
  {
   "cell_type": "code",
   "execution_count": 5,
   "metadata": {},
   "outputs": [
    {
     "name": "stdout",
     "output_type": "stream",
     "text": [
      "<class 'pandas.core.frame.DataFrame'>\n",
      "RangeIndex: 129 entries, 0 to 128\n",
      "Data columns (total 6 columns):\n",
      "Name               129 non-null object\n",
      "Dirty Price        129 non-null float64\n",
      "Clean Price        129 non-null float64\n",
      "AccruedInterest    129 non-null float64\n",
      "Coupon             129 non-null float64\n",
      "Maturity           129 non-null datetime64[ns]\n",
      "dtypes: datetime64[ns](1), float64(4), object(1)\n",
      "memory usage: 6.1+ KB\n",
      "None\n"
     ]
    }
   ],
   "source": [
    "print (BondPrices.info())"
   ]
  },
  {
   "cell_type": "markdown",
   "metadata": {},
   "source": [
    "We need to add a column for the time lapsing from \"today\" which is 1st of December 2000 until the bond pays a coupon or matures"
   ]
  },
  {
   "cell_type": "code",
   "execution_count": 6,
   "metadata": {},
   "outputs": [
    {
     "name": "stdout",
     "output_type": "stream",
     "text": [
      "        Time  Bond1  Bond2  Bond3  Bond4  Bond5  Bond6  Bond7  Bond8  Bond9  \\\n",
      "0 2000-12-02      0      0      0      0      0      0      0      0      0   \n",
      "1 2000-12-03      0      0      0      0      0      0      0      0      0   \n",
      "2 2000-12-04      0      0      0      0      0      0      0      0      0   \n",
      "3 2000-12-05      0      0      0      0      0      0      0      0      0   \n",
      "\n",
      "     ...     Bond121  Bond122  Bond123  Bond124  Bond125  Bond126  Bond127  \\\n",
      "0    ...         0.0      0.0      0.0      0.0      0.0      0.0      0.0   \n",
      "1    ...         0.0      0.0      0.0      0.0      0.0      0.0      0.0   \n",
      "2    ...         0.0      0.0      0.0      0.0      0.0      0.0      0.0   \n",
      "3    ...         0.0      0.0      0.0      0.0      0.0      0.0      0.0   \n",
      "\n",
      "   Bond128  Bond129  timeDiff  \n",
      "0      0.0      0.0  0.002740  \n",
      "1      0.0      0.0  0.005479  \n",
      "2      0.0      0.0  0.008219  \n",
      "3      0.0      0.0  0.010959  \n",
      "\n",
      "[4 rows x 131 columns]\n"
     ]
    }
   ],
   "source": [
    "from datetime import date\n",
    "first_date = date(2000, 12, 1)\n",
    "CashFlows[\"timeDiff\"] = (CashFlows[\"Time\"] - first_date)\n",
    "CashFlows[\"timeDiff\"] = CashFlows[\"timeDiff\"]/np.timedelta64(1,'D')\n",
    "CashFlows[\"timeDiff\"] = CashFlows[\"timeDiff\"]/365.0\n",
    "print (CashFlows.head(4))"
   ]
  },
  {
   "cell_type": "markdown",
   "metadata": {},
   "source": [
    "From the BondPrices and CashFlows dataframes, we respectively need \"Dirty Prices\", \"timeDiff\" and all Cash Flows.\n",
    "\n",
    "Let's import them into numpy arrays and also check they have the correct dimension"
   ]
  },
  {
   "cell_type": "code",
   "execution_count": 7,
   "metadata": {},
   "outputs": [],
   "source": [
    "DirtyPrices= BondPrices[\"Dirty Price\"].values\n",
    "Maturities = BondPrices[\"Dirty Price\"].values\n",
    "TimeValue  = CashFlows[\"timeDiff\"].values\n",
    "CFs        = CashFlows[CashFlows.columns[1:130]].values"
   ]
  },
  {
   "cell_type": "code",
   "execution_count": 8,
   "metadata": {},
   "outputs": [
    {
     "name": "stdout",
     "output_type": "stream",
     "text": [
      "129\n",
      "213\n",
      "(213, 129)\n"
     ]
    }
   ],
   "source": [
    "print (DirtyPrices.size)\n",
    "print (TimeValue.size)\n",
    "print (CFs.shape)"
   ]
  },
  {
   "cell_type": "markdown",
   "metadata": {},
   "source": [
    "They have the right size: There are 129 bonds with 213 cash flows. Some bonds have coupon payments occuring on the same date  "
   ]
  },
  {
   "cell_type": "markdown",
   "metadata": {},
   "source": [
    "In case you want to see cash flows in an excel sheet, run this "
   ]
  },
  {
   "cell_type": "code",
   "execution_count": 9,
   "metadata": {},
   "outputs": [],
   "source": [
    "df = pd.DataFrame(CFs)\n",
    "df.to_csv('Cashflows.csv')"
   ]
  },
  {
   "cell_type": "markdown",
   "metadata": {},
   "source": [
    "We also calculate the YTM for each bond. We will need it later.  \n",
    "\n",
    "Let's write a class to do that. "
   ]
  },
  {
   "cell_type": "code",
   "execution_count": 10,
   "metadata": {},
   "outputs": [],
   "source": [
    "class YTM(object):\n",
    "    def __init__(self, DirtyPrice, times, CFs):\n",
    "        self.times     = np.array(times)\n",
    "        self.CFs       = np.array(CFs)\n",
    "        self.size      = self.times.size\n",
    "        self.DirtyPrice= DirtyPrice \n",
    "        self.df        = np.zeros(self.size)\n",
    "        self.ytm       = 0.0\n",
    "        \n",
    "    def DF(self, ytm):\n",
    "        for i, j in enumerate (self.times):\n",
    "            self.df[i] = (1+ytm/2.0)**(-j * 2.0)\n",
    "    \n",
    "    def MyDirtyPrice(self):\n",
    "        self.my_dirtyprice = self.df.dot(self.CFs)\n",
    "    \n",
    "    def loss(self, x):\n",
    "        self.x = x\n",
    "        self.DF(self.x)\n",
    "        self.MyDirtyPrice()\n",
    "        Tominimize      = 1000*(self.my_dirtyprice - self.DirtyPrice)\n",
    "        return Tominimize**2\n",
    "        \n",
    "    def solve(self,x0 = np.random.rand(1)):\n",
    "        self.opt_results = optimize.fmin(self.loss,x0=x0, disp=False)\n",
    "        self.x           = self.opt_results[0]"
   ]
  },
  {
   "cell_type": "markdown",
   "metadata": {},
   "source": [
    "Let's test on the last bond on our dataset"
   ]
  },
  {
   "cell_type": "code",
   "execution_count": 11,
   "metadata": {},
   "outputs": [
    {
     "name": "stdout",
     "output_type": "stream",
     "text": [
      "107.7663043478261\n",
      "[  0.       0.       0.       0.       0.       0.       0.       0.\n",
      "   0.       0.       0.       0.       0.       0.       0.       0.\n",
      "   0.       0.       0.       0.       3.0625   0.       0.       0.\n",
      "   0.       0.       0.       0.       0.       0.       0.       0.\n",
      "   0.       0.       0.       0.       0.       0.       0.       0.\n",
      "   0.       0.       0.       0.       0.       0.       0.       3.0625\n",
      "   0.       0.       0.       0.       0.       0.       0.       0.\n",
      "   0.       0.       0.       0.       0.       0.       3.0625   0.\n",
      "   0.       0.       0.       0.       0.       0.       0.       0.\n",
      "   0.       0.       3.0625   0.       0.       0.       0.       0.\n",
      "   0.       0.       0.       0.       0.       0.       0.       3.0625\n",
      "   0.       0.       0.       0.       0.       0.       0.       0.\n",
      "   3.0625   0.       0.       0.       3.0625   0.       0.       0.\n",
      "   3.0625   0.       0.       0.       3.0625   0.       0.       0.\n",
      "   3.0625   0.       0.       0.       3.0625   0.       0.       0.\n",
      "   3.0625   0.       0.       3.0625   0.       3.0625   0.       3.0625\n",
      "   0.       3.0625   0.       3.0625   0.       3.0625   0.       3.0625\n",
      "   0.       3.0625   0.       3.0625   0.       3.0625   0.       3.0625\n",
      "   0.       3.0625   0.       3.0625   0.       3.0625   0.       3.0625\n",
      "   0.       3.0625   0.       3.0625   0.       3.0625   0.       3.0625\n",
      "   0.       3.0625   0.       3.0625   0.       3.0625   0.       3.0625\n",
      "   0.       3.0625   0.       3.0625   0.       3.0625   0.       3.0625\n",
      "   0.       3.0625   0.       3.0625   0.       3.0625   0.       3.0625\n",
      "   0.       3.0625   0.       3.0625   0.       3.0625   0.       3.0625\n",
      "   0.       3.0625   0.       3.0625   0.       3.0625   0.       3.0625\n",
      "   0.       3.0625   0.       3.0625   0.       3.0625   0.       3.0625\n",
      "   0.       3.0625   0.       3.0625 103.0625]\n"
     ]
    }
   ],
   "source": [
    "# The cash flows and price are the following\n",
    "print (DirtyPrices[128])\n",
    "print (CFs[:, 128])"
   ]
  },
  {
   "cell_type": "code",
   "execution_count": 12,
   "metadata": {},
   "outputs": [
    {
     "name": "stdout",
     "output_type": "stream",
     "text": [
      "0.056961299200351756\n",
      "107.76632424553891\n",
      "107.7663043478261\n"
     ]
    }
   ],
   "source": [
    "ytm = YTM(DirtyPrices[128], TimeValue, CFs[:, 128])\n",
    "ytm.solve()\n",
    "print (ytm.x)\n",
    "print (ytm.my_dirtyprice)\n",
    "print (DirtyPrices[128])"
   ]
  },
  {
   "cell_type": "markdown",
   "metadata": {},
   "source": [
    "For each bond, let's calculate the YTM, given its Dirty Price"
   ]
  },
  {
   "cell_type": "code",
   "execution_count": 13,
   "metadata": {},
   "outputs": [],
   "source": [
    "ytmArray       = np.zeros(DirtyPrices.size)\n",
    "DirtyPrice_ytm = np.zeros(DirtyPrices.size)\n",
    "for i in range(DirtyPrices.size):    \n",
    "    ytm               = YTM(DirtyPrices[i], TimeValue, CFs[:, i])\n",
    "    ytm.solve()\n",
    "    ytmArray[i]       = (ytm.x)\n",
    "    DirtyPrice_ytm[i] = (ytm.my_dirtyprice)"
   ]
  },
  {
   "cell_type": "code",
   "execution_count": 14,
   "metadata": {},
   "outputs": [
    {
     "data": {
      "image/png": "[encoded data removed]",
      "text/plain": [
       "<Figure size 432x288 with 1 Axes>"
      ]
     },
     "metadata": {
      "needs_background": "light"
     },
     "output_type": "display_data"
    }
   ],
   "source": [
    "plt.plot(BondPrices[\"Maturity\"], ytmArray, 'bo')\n",
    "plt.xlabel('time To Maturity')  \n",
    "plt.ylabel('YTM')\n",
    "plt.grid(True)\n",
    "plt.title(\" YTM \");\n",
    "plt.show()"
   ]
  },
  {
   "cell_type": "markdown",
   "metadata": {},
   "source": [
    "Let's add ytm's and Dirty Price calculated with ytm into the \"BondPrices\" dataframe and check they are all ok"
   ]
  },
  {
   "cell_type": "code",
   "execution_count": 15,
   "metadata": {},
   "outputs": [],
   "source": [
    "BondPrices[\"YTM\"]            = ytmArray\n",
    "BondPrices[\"DirtyPrice_YTM\"] = DirtyPrice_ytm"
   ]
  },
  {
   "cell_type": "code",
   "execution_count": 16,
   "metadata": {},
   "outputs": [
    {
     "name": "stdout",
     "output_type": "stream",
     "text": [
      "1e-05\n"
     ]
    }
   ],
   "source": [
    "# Are there any error?\n",
    "print (np.round((np.sum(BondPrices[\"DirtyPrice_YTM\"] - BondPrices[\"Dirty Price\"])),5))"
   ]
  },
  {
   "cell_type": "code",
   "execution_count": 17,
   "metadata": {},
   "outputs": [
    {
     "name": "stdout",
     "output_type": "stream",
     "text": [
      "    Name  Dirty Price  Clean Price  AccruedInterest  Coupon   Maturity  \\\n",
      "0  Bond1    99.897834    99.897834              0.0     0.0 2000-12-07   \n",
      "1  Bond2    99.783604    99.783604              0.0     0.0 2000-12-14   \n",
      "\n",
      "        YTM  DirtyPrice_YTM  \n",
      "0  0.063161       99.897842  \n",
      "1  0.061758       99.783613  \n",
      "        Name  Dirty Price  Clean Price  AccruedInterest  Coupon   Maturity  \\\n",
      "127  Bond128    94.943105    93.402344         1.540761   5.250 2029-02-15   \n",
      "128  Bond129   107.766304   105.968750         1.797554   6.125 2029-08-15   \n",
      "\n",
      "          YTM  DirtyPrice_YTM  \n",
      "127  0.057198       94.943109  \n",
      "128  0.056961      107.766324  \n"
     ]
    }
   ],
   "source": [
    "print (BondPrices.head(2))\n",
    "print (BondPrices.tail(2))"
   ]
  },
  {
   "cell_type": "markdown",
   "metadata": {},
   "source": [
    "Let's write a class for the Nelson Siegel Svensson algo"
   ]
  },
  {
   "cell_type": "code",
   "execution_count": 18,
   "metadata": {},
   "outputs": [],
   "source": [
    "class NelsonSiegelSvensson():\n",
    "    def __init__(self, time_, Cashflows_, Prices_):\n",
    "        self.time      = np.asarray(time_)\n",
    "        self.Cashflows = np.asarray(Cashflows_)\n",
    "        self.Prices    = np.asarray(Prices_)\n",
    "        self.r         = np.zeros(self.time.size)\n",
    "        self.df        = np.zeros(self.time.size)\n",
    "                \n",
    "        # DO NOT CHANGE them!!\n",
    "        self.initialguess = [6278.30,-6278.30,-6291.28,0.70906,27056.5 ,20.2312]\n",
    "        \n",
    "        self.w = np.zeros(6)\n",
    "    \n",
    "    def UpdateWs(self, param):\n",
    "        self.w = param\n",
    "    \n",
    "    def set_ws(self,w_):\n",
    "        self.w = w_\n",
    "        \n",
    "    def DF(self):\n",
    "        self.df = np.exp(-self.r * self.time)        \n",
    "        \n",
    "    def zerorate(self, t):        \n",
    "        return self.w[0] + (self.w[1] + self.w[2])*(1-np.exp(-t/self.w[4]))/(t/self.w[4]) \\\n",
    "                - self.w[2]*np.exp(-t/self.w[4]) \\\n",
    "                + self.w[3] *( (1-np.exp(-t/self.w[5]))/(t/self.w[5]) - np.exp(-t/self.w[5]))\n",
    "\n",
    "    def Zerorates(self, t):\n",
    "        t      = self.time\n",
    "        \n",
    "        vfunc = np.vectorize(self.zerorate)\n",
    "        \n",
    "        self.r = vfunc(t)\n",
    "    \n",
    "    def loss(self, w):\n",
    "        t      = self.time\n",
    "        self.w = w\n",
    "        self.Zerorates(t)\n",
    "        self.DF()       \n",
    "        Ax     = np.transpose(self.df).dot(self.Cashflows)\n",
    "        error  = 1000*(self.Prices - Ax)\n",
    "        \n",
    "        return np.sum(error**2)\n",
    "    \n",
    "    def Calibrate(self):\n",
    "        self.opt_results = optimize.minimize(self.loss,np.array(self.initialguess),jac=False,tol=1e-13,method='L-BFGS-B')\n",
    "        self.w           = self.opt_results.x  "
   ]
  },
  {
   "cell_type": "markdown",
   "metadata": {},
   "source": [
    "Let's check it works.\n",
    "\n",
    "we instantiate an object of type \"NelsonSiegelSvensson\"\n",
    "\n",
    "1 - We load a set of parameters\n",
    "\n",
    "2 - We print the zero rate with a maturity of 1 year and 30 year\n",
    "\n",
    "3 - we run the methods: Zerorates() and DF()\n",
    "\n",
    "4 - and then multiply the object df by Cashflows. This should calculate Dirty Prices which we can compare with the Dirty Prices in our dataframe \"BondPrices\""
   ]
  },
  {
   "cell_type": "code",
   "execution_count": 19,
   "metadata": {},
   "outputs": [
    {
     "name": "stdout",
     "output_type": "stream",
     "text": [
      "0.050442755673682414\n",
      "0.05492756131295528\n"
     ]
    }
   ],
   "source": [
    "nss = NelsonSiegelSvensson(TimeValue, CFs, DirtyPrices )\n",
    "# 1\n",
    "nss.set_ws([6278.30,-6278.25,-6292.47,0.04387,27056.49,30.48])\n",
    "# 2\n",
    "print (nss.zerorate(1))\n",
    "print (nss.zerorate(30))"
   ]
  },
  {
   "cell_type": "code",
   "execution_count": 20,
   "metadata": {},
   "outputs": [],
   "source": [
    "# 3 \n",
    "nss.Zerorates(TimeValue)\n",
    "nss.DF()\n",
    "\n",
    "# 4\n",
    "Ax = np.transpose(nss.df).dot(nss.Cashflows)\n",
    "BondPrices[\"DirtyPrice_NSS\"] = Ax"
   ]
  },
  {
   "cell_type": "code",
   "execution_count": 21,
   "metadata": {},
   "outputs": [
    {
     "name": "stdout",
     "output_type": "stream",
     "text": [
      "224.74065\n"
     ]
    }
   ],
   "source": [
    "# Are there any error?\n",
    "print (np.round((np.sum(BondPrices[\"DirtyPrice_NSS\"] - BondPrices[\"Dirty Price\"])),5))"
   ]
  },
  {
   "cell_type": "markdown",
   "metadata": {},
   "source": [
    "CAN WE DO BETTER?"
   ]
  },
  {
   "cell_type": "code",
   "execution_count": 22,
   "metadata": {},
   "outputs": [],
   "source": [
    "nss.Calibrate()"
   ]
  },
  {
   "cell_type": "markdown",
   "metadata": {},
   "source": [
    "Print now the NSS parameters. We also use a function to apply print options locally"
   ]
  },
  {
   "cell_type": "code",
   "execution_count": 23,
   "metadata": {},
   "outputs": [
    {
     "name": "stdout",
     "output_type": "stream",
     "text": [
      "[ 6278.326 -6278.273 -6291.281     0.032 27056.563    20.237]\n"
     ]
    }
   ],
   "source": [
    "import contextlib\n",
    "\n",
    "@contextlib.contextmanager\n",
    "def printoptions(*args, **kwargs):\n",
    "    original = np.get_printoptions()\n",
    "    np.set_printoptions(*args, **kwargs)\n",
    "    try:\n",
    "        yield\n",
    "    finally: \n",
    "        np.set_printoptions(**original)\n",
    "\n",
    "x = nss.w\n",
    "with printoptions(precision=3, suppress=True):\n",
    "    print(x)"
   ]
  },
  {
   "cell_type": "code",
   "execution_count": 24,
   "metadata": {},
   "outputs": [
    {
     "data": {
      "image/png": "[encoded data removed]",
      "text/plain": [
       "<Figure size 432x288 with 1 Axes>"
      ]
     },
     "metadata": {
      "needs_background": "light"
     },
     "output_type": "display_data"
    }
   ],
   "source": [
    "plt.plot(nss.time, nss.r, lw=1.5)\n",
    "plt.xlabel('time To Maturity')  \n",
    "plt.ylabel('Continously Compounded Spot Sates')\n",
    "plt.grid(True)\n",
    "plt.title(\"Nelson Siegel Svensson \");\n",
    "plt.show()"
   ]
  },
  {
   "cell_type": "code",
   "execution_count": 25,
   "metadata": {},
   "outputs": [
    {
     "data": {
      "image/png": "[encoded data removed]",
      "text/plain": [
       "<Figure size 432x288 with 1 Axes>"
      ]
     },
     "metadata": {
      "needs_background": "light"
     },
     "output_type": "display_data"
    }
   ],
   "source": [
    "plt.plot(nss.time, nss.df, lw=1.5)\n",
    "plt.xlabel('time To Maturity')  \n",
    "plt.ylabel('Discount Factor')\n",
    "plt.grid(True)\n",
    "plt.title(\"Nelson Siegel Svensson \");\n",
    "plt.show()"
   ]
  },
  {
   "cell_type": "code",
   "execution_count": 26,
   "metadata": {},
   "outputs": [
    {
     "name": "stdout",
     "output_type": "stream",
     "text": [
      "15.38384\n"
     ]
    }
   ],
   "source": [
    "# Have we done better than before?\n",
    "Ax = np.transpose(nss.df).dot(nss.Cashflows)\n",
    "BondPrices[\"DirtyPrice_NSS\"] = Ax\n",
    "BondPrices[\"CleanPrice_NSS\"] = BondPrices[\"DirtyPrice_NSS\"] -  BondPrices[\"AccruedInterest\"]  \n",
    "BondPrices[\"CleanPrice_Diff\"]= BondPrices[\"CleanPrice_NSS\"] -  BondPrices[\"Clean Price\"]\n",
    "print (np.round((np.sum(BondPrices[\"DirtyPrice_NSS\"] - BondPrices[\"Dirty Price\"])),5))\n",
    "# Yes!!"
   ]
  },
  {
   "cell_type": "code",
   "execution_count": 27,
   "metadata": {},
   "outputs": [
    {
     "name": "stdout",
     "output_type": "stream",
     "text": [
      "0.6768508628748293\n",
      "152.78587910872918\n",
      "156.2391304347826\n"
     ]
    }
   ],
   "source": [
    "print (np.max(BondPrices[\"CleanPrice_Diff\"]))\n",
    "print (np.max(BondPrices[\"CleanPrice_NSS\"]))\n",
    "print (np.max(BondPrices[\"Dirty Price\"]))"
   ]
  },
  {
   "cell_type": "code",
   "execution_count": 28,
   "metadata": {
    "scrolled": false
   },
   "outputs": [
    {
     "data": {
      "image/png": "[encoded data removed]",
      "text/plain": [
       "<Figure size 1440x720 with 1 Axes>"
      ]
     },
     "metadata": {
      "needs_background": "light"
     },
     "output_type": "display_data"
    }
   ],
   "source": [
    "plt.figure(figsize=(20,10))\n",
    "plt.plot(BondPrices[\"CleanPrice_NSS\"],  'x', color='red', label ='CleanPrices_NSS')\n",
    "plt.plot(BondPrices[\"Clean Price\"],  '+', color='green'  ,label ='Clean Price')\n",
    "plt.legend()\n",
    "plt.ylabel('Bond No.')\n",
    "plt.ylabel('Clean Prices')\n",
    "plt.title(\"Nelson Siegel Svensson Fitting \");        \n",
    "plt.show()"
   ]
  },
  {
   "cell_type": "markdown",
   "metadata": {},
   "source": [
    "Now we can sort the bonds by the cheapest and the most expensive, by comparing the Clean Price vs the one we calculated with the NSS algo, called CleanPrice_NSS. For example we may want to short the most expensive and buy the cheapest, if you believe in the NSS model! "
   ]
  },
  {
   "cell_type": "code",
   "execution_count": 29,
   "metadata": {},
   "outputs": [
    {
     "data": {
      "text/html": [
       "<div>\n",
       "<style scoped>\n",
       "    .dataframe tbody tr th:only-of-type {\n",
       "        vertical-align: middle;\n",
       "    }\n",
       "\n",
       "    .dataframe tbody tr th {\n",
       "        vertical-align: top;\n",
       "    }\n",
       "\n",
       "    .dataframe thead th {\n",
       "        text-align: right;\n",
       "    }\n",
       "</style>\n",
       "<table border=\"1\" class=\"dataframe\">\n",
       "  <thead>\n",
       "    <tr style=\"text-align: right;\">\n",
       "      <th></th>\n",
       "      <th>Name</th>\n",
       "      <th>Dirty Price</th>\n",
       "      <th>Clean Price</th>\n",
       "      <th>AccruedInterest</th>\n",
       "      <th>Coupon</th>\n",
       "      <th>Maturity</th>\n",
       "      <th>YTM</th>\n",
       "      <th>DirtyPrice_YTM</th>\n",
       "      <th>DirtyPrice_NSS</th>\n",
       "      <th>CleanPrice_NSS</th>\n",
       "      <th>CleanPrice_Diff</th>\n",
       "    </tr>\n",
       "  </thead>\n",
       "  <tbody>\n",
       "    <tr>\n",
       "      <th>92</th>\n",
       "      <td>Bond93</td>\n",
       "      <td>103.421875</td>\n",
       "      <td>101.734375</td>\n",
       "      <td>1.687500</td>\n",
       "      <td>5.750</td>\n",
       "      <td>2010-08-15</td>\n",
       "      <td>0.055137</td>\n",
       "      <td>103.421883</td>\n",
       "      <td>101.899984</td>\n",
       "      <td>100.212484</td>\n",
       "      <td>-1.521891</td>\n",
       "    </tr>\n",
       "    <tr>\n",
       "      <th>128</th>\n",
       "      <td>Bond129</td>\n",
       "      <td>107.766304</td>\n",
       "      <td>105.968750</td>\n",
       "      <td>1.797554</td>\n",
       "      <td>6.125</td>\n",
       "      <td>2029-08-15</td>\n",
       "      <td>0.056961</td>\n",
       "      <td>107.766324</td>\n",
       "      <td>106.711122</td>\n",
       "      <td>104.913567</td>\n",
       "      <td>-1.055183</td>\n",
       "    </tr>\n",
       "    <tr>\n",
       "      <th>91</th>\n",
       "      <td>Bond92</td>\n",
       "      <td>108.505265</td>\n",
       "      <td>106.597656</td>\n",
       "      <td>1.907609</td>\n",
       "      <td>6.500</td>\n",
       "      <td>2010-02-15</td>\n",
       "      <td>0.055688</td>\n",
       "      <td>108.505273</td>\n",
       "      <td>107.485623</td>\n",
       "      <td>105.578014</td>\n",
       "      <td>-1.019642</td>\n",
       "    </tr>\n",
       "    <tr>\n",
       "      <th>88</th>\n",
       "      <td>Bond89</td>\n",
       "      <td>95.151351</td>\n",
       "      <td>94.941406</td>\n",
       "      <td>0.209945</td>\n",
       "      <td>4.750</td>\n",
       "      <td>2008-11-15</td>\n",
       "      <td>0.055412</td>\n",
       "      <td>95.151334</td>\n",
       "      <td>94.255186</td>\n",
       "      <td>94.045241</td>\n",
       "      <td>-0.896165</td>\n",
       "    </tr>\n",
       "    <tr>\n",
       "      <th>89</th>\n",
       "      <td>Bond90</td>\n",
       "      <td>99.829031</td>\n",
       "      <td>99.585937</td>\n",
       "      <td>0.243094</td>\n",
       "      <td>5.500</td>\n",
       "      <td>2009-05-15</td>\n",
       "      <td>0.055606</td>\n",
       "      <td>99.829039</td>\n",
       "      <td>98.935527</td>\n",
       "      <td>98.692433</td>\n",
       "      <td>-0.893504</td>\n",
       "    </tr>\n",
       "  </tbody>\n",
       "</table>\n",
       "</div>"
      ],
      "text/plain": [
       "        Name  Dirty Price  Clean Price  AccruedInterest  Coupon   Maturity  \\\n",
       "92    Bond93   103.421875   101.734375         1.687500   5.750 2010-08-15   \n",
       "128  Bond129   107.766304   105.968750         1.797554   6.125 2029-08-15   \n",
       "91    Bond92   108.505265   106.597656         1.907609   6.500 2010-02-15   \n",
       "88    Bond89    95.151351    94.941406         0.209945   4.750 2008-11-15   \n",
       "89    Bond90    99.829031    99.585937         0.243094   5.500 2009-05-15   \n",
       "\n",
       "          YTM  DirtyPrice_YTM  DirtyPrice_NSS  CleanPrice_NSS  CleanPrice_Diff  \n",
       "92   0.055137      103.421883      101.899984      100.212484        -1.521891  \n",
       "128  0.056961      107.766324      106.711122      104.913567        -1.055183  \n",
       "91   0.055688      108.505273      107.485623      105.578014        -1.019642  \n",
       "88   0.055412       95.151334       94.255186       94.045241        -0.896165  \n",
       "89   0.055606       99.829039       98.935527       98.692433        -0.893504  "
      ]
     },
     "execution_count": 29,
     "metadata": {},
     "output_type": "execute_result"
    }
   ],
   "source": [
    "BondPrices.sort_values(by='CleanPrice_Diff',ascending=1).head(5)"
   ]
  },
  {
   "cell_type": "code",
   "execution_count": 30,
   "metadata": {},
   "outputs": [
    {
     "data": {
      "text/html": [
       "<div>\n",
       "<style scoped>\n",
       "    .dataframe tbody tr th:only-of-type {\n",
       "        vertical-align: middle;\n",
       "    }\n",
       "\n",
       "    .dataframe tbody tr th {\n",
       "        vertical-align: top;\n",
       "    }\n",
       "\n",
       "    .dataframe thead th {\n",
       "        text-align: right;\n",
       "    }\n",
       "</style>\n",
       "<table border=\"1\" class=\"dataframe\">\n",
       "  <thead>\n",
       "    <tr style=\"text-align: right;\">\n",
       "      <th></th>\n",
       "      <th>Name</th>\n",
       "      <th>Dirty Price</th>\n",
       "      <th>Clean Price</th>\n",
       "      <th>AccruedInterest</th>\n",
       "      <th>Coupon</th>\n",
       "      <th>Maturity</th>\n",
       "      <th>YTM</th>\n",
       "      <th>DirtyPrice_YTM</th>\n",
       "      <th>DirtyPrice_NSS</th>\n",
       "      <th>CleanPrice_NSS</th>\n",
       "      <th>CleanPrice_Diff</th>\n",
       "    </tr>\n",
       "  </thead>\n",
       "  <tbody>\n",
       "    <tr>\n",
       "      <th>46</th>\n",
       "      <td>Bond47</td>\n",
       "      <td>113.615659</td>\n",
       "      <td>109.433594</td>\n",
       "      <td>4.182065</td>\n",
       "      <td>14.250</td>\n",
       "      <td>2002-02-15</td>\n",
       "      <td>0.059975</td>\n",
       "      <td>113.615655</td>\n",
       "      <td>114.292510</td>\n",
       "      <td>110.110445</td>\n",
       "      <td>0.676851</td>\n",
       "    </tr>\n",
       "    <tr>\n",
       "      <th>42</th>\n",
       "      <td>Bond43</td>\n",
       "      <td>101.593211</td>\n",
       "      <td>101.261719</td>\n",
       "      <td>0.331492</td>\n",
       "      <td>7.500</td>\n",
       "      <td>2001-11-15</td>\n",
       "      <td>0.061145</td>\n",
       "      <td>101.593219</td>\n",
       "      <td>102.221639</td>\n",
       "      <td>101.890147</td>\n",
       "      <td>0.628428</td>\n",
       "    </tr>\n",
       "    <tr>\n",
       "      <th>45</th>\n",
       "      <td>Bond46</td>\n",
       "      <td>102.338995</td>\n",
       "      <td>100.250000</td>\n",
       "      <td>2.088995</td>\n",
       "      <td>6.250</td>\n",
       "      <td>2002-01-31</td>\n",
       "      <td>0.060087</td>\n",
       "      <td>102.338988</td>\n",
       "      <td>102.965897</td>\n",
       "      <td>100.876902</td>\n",
       "      <td>0.626902</td>\n",
       "    </tr>\n",
       "    <tr>\n",
       "      <th>44</th>\n",
       "      <td>Bond45</td>\n",
       "      <td>102.643592</td>\n",
       "      <td>100.066406</td>\n",
       "      <td>2.577186</td>\n",
       "      <td>6.125</td>\n",
       "      <td>2001-12-31</td>\n",
       "      <td>0.060382</td>\n",
       "      <td>102.643602</td>\n",
       "      <td>103.260207</td>\n",
       "      <td>100.683022</td>\n",
       "      <td>0.616616</td>\n",
       "    </tr>\n",
       "    <tr>\n",
       "      <th>43</th>\n",
       "      <td>Bond44</td>\n",
       "      <td>99.817010</td>\n",
       "      <td>99.800781</td>\n",
       "      <td>0.016229</td>\n",
       "      <td>5.875</td>\n",
       "      <td>2001-11-30</td>\n",
       "      <td>0.060843</td>\n",
       "      <td>99.817014</td>\n",
       "      <td>100.432885</td>\n",
       "      <td>100.416656</td>\n",
       "      <td>0.615875</td>\n",
       "    </tr>\n",
       "  </tbody>\n",
       "</table>\n",
       "</div>"
      ],
      "text/plain": [
       "      Name  Dirty Price  Clean Price  AccruedInterest  Coupon   Maturity  \\\n",
       "46  Bond47   113.615659   109.433594         4.182065  14.250 2002-02-15   \n",
       "42  Bond43   101.593211   101.261719         0.331492   7.500 2001-11-15   \n",
       "45  Bond46   102.338995   100.250000         2.088995   6.250 2002-01-31   \n",
       "44  Bond45   102.643592   100.066406         2.577186   6.125 2001-12-31   \n",
       "43  Bond44    99.817010    99.800781         0.016229   5.875 2001-11-30   \n",
       "\n",
       "         YTM  DirtyPrice_YTM  DirtyPrice_NSS  CleanPrice_NSS  CleanPrice_Diff  \n",
       "46  0.059975      113.615655      114.292510      110.110445         0.676851  \n",
       "42  0.061145      101.593219      102.221639      101.890147         0.628428  \n",
       "45  0.060087      102.338988      102.965897      100.876902         0.626902  \n",
       "44  0.060382      102.643602      103.260207      100.683022         0.616616  \n",
       "43  0.060843       99.817014      100.432885      100.416656         0.615875  "
      ]
     },
     "execution_count": 30,
     "metadata": {},
     "output_type": "execute_result"
    }
   ],
   "source": [
    "BondPrices.sort_values(by='CleanPrice_Diff',ascending=0).head(5)"
   ]
  }
 ],
 "metadata": {
  "kernelspec": {
   "display_name": "Python 3",
   "language": "python",
   "name": "python3"
  },
  "language_info": {
   "codemirror_mode": {
    "name": "ipython",
    "version": 3
   },
   "file_extension": ".py",
   "mimetype": "text/x-python",
   "name": "python",
   "nbconvert_exporter": "python",
   "pygments_lexer": "ipython3",
   "version": "3.6.4"
  }
 },
 "nbformat": 4,
 "nbformat_minor": 2
}
