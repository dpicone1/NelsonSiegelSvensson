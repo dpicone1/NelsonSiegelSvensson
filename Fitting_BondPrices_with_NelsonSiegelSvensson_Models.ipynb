{
 "cells": [
  {
   "cell_type": "markdown",
   "metadata": {},
   "source": [
    "# Fitting Bond Prices with Nelson Siegel and Nelson Siegel Svensson models"
   ]
  },
  {
   "cell_type": "markdown",
   "metadata": {},
   "source": [
    "The Nelson-Siegel and its extension Nelson-Siegel-Svensson are two of the most popular yield curve models.\n",
    "\n",
    "They are very useful when we do not have nicely spaced bond quotes data to build the discounting factors from.\n",
    "\n",
    "Sometimes up until certain maturities there are two many bonds compared with the number of maturities, and not sufficiently bonds thereafter. Very often, there are multiple bonds maturing in the same months."
   ]
  },
  {
   "cell_type": "markdown",
   "metadata": {},
   "source": [
    "From the discounting factor \n",
    "\n",
    "\\begin{equation}\n",
    "Z(0,t) =  exp^{-r(0,t)t}\n",
    "\\end{equation}\n",
    "\n",
    "we can postulate a parametric function for the zero rate  $r(0,t)$, and use bond prices to estimate those parameters."
   ]
  },
  {
   "cell_type": "markdown",
   "metadata": {},
   "source": [
    "In the Nelson Siegel and  Nelson Siegel Svensson models, the zero rate respectively follows the parametric equations:\n",
    "\n",
    "\\begin{equation} Nelson\\ Siegel :\\  \n",
    "r(0,t) = \\beta_0 + \\beta_1\\left(\\frac{1-e^{\\left(\\frac{-t}{T_1}\\right)}}{t/T_1} \\right) + \\beta_2\\left(\\frac{1-e^{\\left(\\frac{-t}{T_1}\\right)}}{t/T_1} - e^{\\frac{-t}{T_1}} \\right) \\end{equation}\n",
    "\n",
    "\\begin{equation} Nelson\\ Siegel\\ Svensson :\\\n",
    "r(0,t) = \\beta_0 + \\beta_1\\left(\\frac{1-e^{\\left(\\frac{-t}{T_1}\\right)}}{t/T_1} \\right) + \\beta_2\\left(\\frac{1-e^{\\left(\\frac{-t}{T_1}\\right)}}{t/T_1} - e^{\\frac{-t}{T_1}} \\right) + \n",
    "\\beta_3 \\left( \\frac{1-e^{\\left(\\frac{-t}{T_2}\\right)}}{t/T_2} -e^{\\frac{-t}{T_2}} \\right)\n",
    "\\end{equation}\n",
    "\n",
    "where:\n",
    "\n",
    "-  $r(0,t)$: zero rate with maturity $t$\n",
    "-  $\\beta_0$: level parameter, the long term rate\n",
    "-  $\\beta_1$: slope parameter, the spread short/long-term\n",
    "-  $\\beta_2$: first curvature or hump parameter\n",
    "-  $\\beta_3$: second curvature or hump parameter which allows for a better fit at long maturities\n",
    "\n",
    "-  $T_1$: scale parameter which affects both the slope and first curvature $\\beta_1$ and $\\beta_2$\n",
    "-  $T_2$: scale parameter for the second hump parameter $\\beta_3$\n",
    "\n",
    "where $T_2$ and $\\beta_3$ are only valid for the NSS model.  "
   ]
  },
  {
   "cell_type": "markdown",
   "metadata": {},
   "source": [
    "The way we proceed is by selecting the given set of parameters which minimizes the following quantity\n",
    "\n",
    "$$ \\sum_{i=1}^{N}\\left(P^{i,Model}(0,t)-P^{i}(0,t)\\right) $$\n",
    "\n",
    "\n",
    "where:\n",
    "\n",
    "$P^{i,Model}(0,t)$  is the discounted value of the bond $i$ cash flows calculated with either NS or NSS models and\n",
    "\n",
    "$P^{i}(0,t)$ is dirty price (quoted clean price + accrued interest) of the same bond $i$\n",
    "\n",
    "$N$ is the number of bonds with quotes"
   ]
  },
  {
   "cell_type": "markdown",
   "metadata": {},
   "source": [
    "In this notebook, we want to try to calibrate the NS and NSS parameters to a set of bond prices made available to us. The prices are old, as they date back to december 1st 2000. They were collected from Fixed Income Securities, Pietro Veronesi, page 319, table 8.8. http://pietroveronesi.org/teaching/FIS/\n",
    "\n",
    "We are going to use the minimize object available in python via the library \"scipy.optimize\".\n",
    "\n",
    "One warning: When working on a different dataset of bond prices you may find the calibration results at least initially, poor. This is due to the starting values. Start with fitting the Nelson Siegel, and once you are happy, move to the Nelson Siegel Svensson. "
   ]
  },
  {
   "cell_type": "markdown",
   "metadata": {},
   "source": [
    "We start by importing the python libraries we need"
   ]
  },
  {
   "cell_type": "code",
   "execution_count": 1,
   "metadata": {},
   "outputs": [],
   "source": [
    "import pandas as pd\n",
    "import numpy as np\n",
    "import matplotlib.pyplot as plt\n",
    "from scipy import optimize\n",
    "%matplotlib inline"
   ]
  },
  {
   "cell_type": "markdown",
   "metadata": {},
   "source": [
    "Let's import our data set:\n",
    "\n",
    "CashFlows and Prices"
   ]
  },
  {
   "cell_type": "code",
   "execution_count": 2,
   "metadata": {},
   "outputs": [
    {
     "name": "stdout",
     "output_type": "stream",
     "text": [
      "        Time  Bond1  Bond2  Bond3  Bond4  Bond5  Bond6  Bond7  Bond8  Bond9  \\\n",
      "0 2000-12-02      0      0      0      0      0      0      0      0      0   \n",
      "1 2000-12-03      0      0      0      0      0      0      0      0      0   \n",
      "\n",
      "    ...     Bond120  Bond121  Bond122  Bond123  Bond124  Bond125  Bond126  \\\n",
      "0   ...           0      0.0      0.0      0.0      0.0      0.0      0.0   \n",
      "1   ...           0      0.0      0.0      0.0      0.0      0.0      0.0   \n",
      "\n",
      "   Bond127  Bond128  Bond129  \n",
      "0      0.0      0.0      0.0  \n",
      "1      0.0      0.0      0.0  \n",
      "\n",
      "[2 rows x 130 columns]\n",
      "          Time  Bond1  Bond2  Bond3  Bond4  Bond5  Bond6  Bond7  Bond8  Bond9  \\\n",
      "211 2029-02-15      0      0      0      0      0      0      0      0      0   \n",
      "212 2029-08-15      0      0      0      0      0      0      0      0      0   \n",
      "\n",
      "       ...     Bond120  Bond121  Bond122  Bond123  Bond124  Bond125  Bond126  \\\n",
      "211    ...           0      0.0      0.0      0.0      0.0      0.0      0.0   \n",
      "212    ...           0      0.0      0.0      0.0      0.0      0.0      0.0   \n",
      "\n",
      "     Bond127  Bond128   Bond129  \n",
      "211      0.0  102.625    3.0625  \n",
      "212      0.0    0.000  103.0625  \n",
      "\n",
      "[2 rows x 130 columns]\n"
     ]
    }
   ],
   "source": [
    "CashFlows = pd.read_excel ('BondPrices_DB.xlsx', sheet_name='CashFlows')\n",
    "print (CashFlows.head(2))\n",
    "print (CashFlows.tail(2))"
   ]
  },
  {
   "cell_type": "markdown",
   "metadata": {},
   "source": [
    "Please also note that the time when bonds cash flows occur are not at constant intervals  "
   ]
  },
  {
   "cell_type": "code",
   "execution_count": 3,
   "metadata": {},
   "outputs": [
    {
     "name": "stdout",
     "output_type": "stream",
     "text": [
      "213\n",
      "130\n"
     ]
    }
   ],
   "source": [
    "row, col = CashFlows.shape\n",
    "print (row)\n",
    "print (col)\n",
    "# there are 129 bonds (columns), with 213 cash flows items (rows) "
   ]
  },
  {
   "cell_type": "code",
   "execution_count": 4,
   "metadata": {},
   "outputs": [
    {
     "name": "stdout",
     "output_type": "stream",
     "text": [
      "    Name  Dirty Price  Clean Price  AccruedInterest  Coupon   Maturity\n",
      "0  Bond1    99.897834    99.897834              0.0     0.0 2000-12-07\n",
      "1  Bond2    99.783604    99.783604              0.0     0.0 2000-12-14\n",
      "        Name  Dirty Price  Clean Price  AccruedInterest  Coupon   Maturity\n",
      "127  Bond128    94.943105    93.402344         1.540761   5.250 2029-02-15\n",
      "128  Bond129   107.766304   105.968750         1.797554   6.125 2029-08-15\n"
     ]
    }
   ],
   "source": [
    "# In this print: the first two bonds are Zero Coupon Bonds, whereas the last two are Coupon Bonds\n",
    "BondPrices = pd.read_excel (r'BondPrices_DB.xlsx', sheet_name='Prices')\n",
    "print (BondPrices.head(2))\n",
    "print (BondPrices.tail(2))"
   ]
  },
  {
   "cell_type": "code",
   "execution_count": 5,
   "metadata": {},
   "outputs": [
    {
     "name": "stdout",
     "output_type": "stream",
     "text": [
      "<class 'pandas.core.frame.DataFrame'>\n",
      "RangeIndex: 129 entries, 0 to 128\n",
      "Data columns (total 6 columns):\n",
      "Name               129 non-null object\n",
      "Dirty Price        129 non-null float64\n",
      "Clean Price        129 non-null float64\n",
      "AccruedInterest    129 non-null float64\n",
      "Coupon             129 non-null float64\n",
      "Maturity           129 non-null datetime64[ns]\n",
      "dtypes: datetime64[ns](1), float64(4), object(1)\n",
      "memory usage: 6.1+ KB\n",
      "None\n"
     ]
    }
   ],
   "source": [
    "print (BondPrices.info())"
   ]
  },
  {
   "cell_type": "markdown",
   "metadata": {},
   "source": [
    "We need to add a column for the time lapsing from \"today\" which is 1st of December 2000 until the bond pays a coupon or matures"
   ]
  },
  {
   "cell_type": "code",
   "execution_count": 6,
   "metadata": {},
   "outputs": [
    {
     "name": "stdout",
     "output_type": "stream",
     "text": [
      "        Time  Bond1  Bond2  Bond3  Bond4  Bond5  Bond6  Bond7  Bond8  Bond9  \\\n",
      "0 2000-12-02      0      0      0      0      0      0      0      0      0   \n",
      "1 2000-12-03      0      0      0      0      0      0      0      0      0   \n",
      "2 2000-12-04      0      0      0      0      0      0      0      0      0   \n",
      "3 2000-12-05      0      0      0      0      0      0      0      0      0   \n",
      "\n",
      "     ...     Bond121  Bond122  Bond123  Bond124  Bond125  Bond126  Bond127  \\\n",
      "0    ...         0.0      0.0      0.0      0.0      0.0      0.0      0.0   \n",
      "1    ...         0.0      0.0      0.0      0.0      0.0      0.0      0.0   \n",
      "2    ...         0.0      0.0      0.0      0.0      0.0      0.0      0.0   \n",
      "3    ...         0.0      0.0      0.0      0.0      0.0      0.0      0.0   \n",
      "\n",
      "   Bond128  Bond129  timeDiff  \n",
      "0      0.0      0.0  0.002740  \n",
      "1      0.0      0.0  0.005479  \n",
      "2      0.0      0.0  0.008219  \n",
      "3      0.0      0.0  0.010959  \n",
      "\n",
      "[4 rows x 131 columns]\n"
     ]
    }
   ],
   "source": [
    "from datetime import date\n",
    "first_date = date(2000, 12, 1)\n",
    "CashFlows[\"timeDiff\"] = (CashFlows[\"Time\"] - first_date)\n",
    "CashFlows[\"timeDiff\"] = CashFlows[\"timeDiff\"]/np.timedelta64(1,'D')\n",
    "CashFlows[\"timeDiff\"] = CashFlows[\"timeDiff\"]/365.0\n",
    "print (CashFlows.head(4))"
   ]
  },
  {
   "cell_type": "markdown",
   "metadata": {},
   "source": [
    "From the BondPrices and CashFlows dataframes, we respectively need \"Dirty Prices\", \"timeDiff\" and all Cash Flows.\n",
    "\n",
    "Let's import them into numpy arrays and also check they have the correct dimension"
   ]
  },
  {
   "cell_type": "code",
   "execution_count": 7,
   "metadata": {},
   "outputs": [],
   "source": [
    "DirtyPrices= BondPrices[\"Dirty Price\"].values\n",
    "Maturities = BondPrices[\"Dirty Price\"].values\n",
    "TimeValue  = CashFlows[\"timeDiff\"].values\n",
    "CFs        = CashFlows[CashFlows.columns[1:130]].values"
   ]
  },
  {
   "cell_type": "code",
   "execution_count": 8,
   "metadata": {},
   "outputs": [
    {
     "name": "stdout",
     "output_type": "stream",
     "text": [
      "129\n",
      "213\n",
      "(213, 129)\n"
     ]
    }
   ],
   "source": [
    "print (DirtyPrices.size)\n",
    "print (TimeValue.size)\n",
    "print (CFs.shape)"
   ]
  },
  {
   "cell_type": "markdown",
   "metadata": {},
   "source": [
    "They have the right size: There are 129 bonds with 213 cash flows. Some bonds have coupon payments occuring on the same date  "
   ]
  },
  {
   "cell_type": "markdown",
   "metadata": {},
   "source": [
    "In case you want to see cash flows in an excel sheet, run this "
   ]
  },
  {
   "cell_type": "code",
   "execution_count": 9,
   "metadata": {},
   "outputs": [],
   "source": [
    "df = pd.DataFrame(CFs)\n",
    "df.to_csv('Cashflows.csv')"
   ]
  },
  {
   "cell_type": "markdown",
   "metadata": {},
   "source": [
    "We also calculate the YTM for each bond. We will need it later.  \n",
    "\n",
    "Let's write a class to do that. "
   ]
  },
  {
   "cell_type": "code",
   "execution_count": 10,
   "metadata": {},
   "outputs": [],
   "source": [
    "class YTM(object):\n",
    "    def __init__(self, DirtyPrice, times, CFs):\n",
    "        self.times     = np.array(times)\n",
    "        self.CFs       = np.array(CFs)\n",
    "        self.size      = self.times.size\n",
    "        self.DirtyPrice= DirtyPrice \n",
    "        self.df        = np.zeros(self.size)\n",
    "        self.ytm       = 0.0\n",
    "        \n",
    "    def DF(self, ytm):\n",
    "        for i, j in enumerate (self.times):\n",
    "            self.df[i] = (1+ytm/2.0)**(-j * 2.0)\n",
    "    \n",
    "    def MyDirtyPrice(self):\n",
    "        self.my_dirtyprice = self.df.dot(self.CFs)\n",
    "    \n",
    "    def loss(self, x):\n",
    "        self.x = x\n",
    "        self.DF(self.x)\n",
    "        self.MyDirtyPrice()\n",
    "        Tominimize      = 1000*(self.my_dirtyprice - self.DirtyPrice)\n",
    "        return Tominimize**2\n",
    "        \n",
    "    def solve(self,x0 = np.random.rand(1)):\n",
    "        self.opt_results = optimize.fmin(self.loss,x0=x0, disp=False)\n",
    "        self.x           = self.opt_results[0]"
   ]
  },
  {
   "cell_type": "markdown",
   "metadata": {},
   "source": [
    "Let's test the YTM class on the last bond on our dataset"
   ]
  },
  {
   "cell_type": "code",
   "execution_count": 11,
   "metadata": {},
   "outputs": [
    {
     "name": "stdout",
     "output_type": "stream",
     "text": [
      "107.7663043478261\n",
      "[  0.       0.       0.       0.       0.       0.       0.       0.\n",
      "   0.       0.       0.       0.       0.       0.       0.       0.\n",
      "   0.       0.       0.       0.       3.0625   0.       0.       0.\n",
      "   0.       0.       0.       0.       0.       0.       0.       0.\n",
      "   0.       0.       0.       0.       0.       0.       0.       0.\n",
      "   0.       0.       0.       0.       0.       0.       0.       3.0625\n",
      "   0.       0.       0.       0.       0.       0.       0.       0.\n",
      "   0.       0.       0.       0.       0.       0.       3.0625   0.\n",
      "   0.       0.       0.       0.       0.       0.       0.       0.\n",
      "   0.       0.       3.0625   0.       0.       0.       0.       0.\n",
      "   0.       0.       0.       0.       0.       0.       0.       3.0625\n",
      "   0.       0.       0.       0.       0.       0.       0.       0.\n",
      "   3.0625   0.       0.       0.       3.0625   0.       0.       0.\n",
      "   3.0625   0.       0.       0.       3.0625   0.       0.       0.\n",
      "   3.0625   0.       0.       0.       3.0625   0.       0.       0.\n",
      "   3.0625   0.       0.       3.0625   0.       3.0625   0.       3.0625\n",
      "   0.       3.0625   0.       3.0625   0.       3.0625   0.       3.0625\n",
      "   0.       3.0625   0.       3.0625   0.       3.0625   0.       3.0625\n",
      "   0.       3.0625   0.       3.0625   0.       3.0625   0.       3.0625\n",
      "   0.       3.0625   0.       3.0625   0.       3.0625   0.       3.0625\n",
      "   0.       3.0625   0.       3.0625   0.       3.0625   0.       3.0625\n",
      "   0.       3.0625   0.       3.0625   0.       3.0625   0.       3.0625\n",
      "   0.       3.0625   0.       3.0625   0.       3.0625   0.       3.0625\n",
      "   0.       3.0625   0.       3.0625   0.       3.0625   0.       3.0625\n",
      "   0.       3.0625   0.       3.0625   0.       3.0625   0.       3.0625\n",
      "   0.       3.0625   0.       3.0625   0.       3.0625   0.       3.0625\n",
      "   0.       3.0625   0.       3.0625 103.0625]\n"
     ]
    }
   ],
   "source": [
    "# The cash flows and price are the following\n",
    "print (DirtyPrices[128])\n",
    "print (CFs[:, 128])"
   ]
  },
  {
   "cell_type": "code",
   "execution_count": 12,
   "metadata": {},
   "outputs": [
    {
     "name": "stdout",
     "output_type": "stream",
     "text": [
      "0.05696127844123905\n",
      "107.76631622264058\n",
      "107.7663043478261\n"
     ]
    }
   ],
   "source": [
    "ytm = YTM(DirtyPrices[128], TimeValue, CFs[:, 128])\n",
    "ytm.solve()\n",
    "print (ytm.x)\n",
    "print (ytm.my_dirtyprice)\n",
    "print (DirtyPrices[128])"
   ]
  },
  {
   "cell_type": "markdown",
   "metadata": {},
   "source": [
    "Now for each bond, we calculate the YTM, given its Dirty Price"
   ]
  },
  {
   "cell_type": "code",
   "execution_count": 13,
   "metadata": {},
   "outputs": [],
   "source": [
    "ytmArray       = np.zeros(DirtyPrices.size)\n",
    "DirtyPrice_ytm = np.zeros(DirtyPrices.size)\n",
    "for i in range(DirtyPrices.size):    \n",
    "    ytm               = YTM(DirtyPrices[i], TimeValue, CFs[:, i])\n",
    "    ytm.solve()\n",
    "    ytmArray[i]       = (ytm.x)\n",
    "    DirtyPrice_ytm[i] = (ytm.my_dirtyprice)"
   ]
  },
  {
   "cell_type": "code",
   "execution_count": 14,
   "metadata": {},
   "outputs": [
    {
     "data": {
      "image/png": "[encoded data removed]",
      "text/plain": [
       "<Figure size 720x432 with 1 Axes>"
      ]
     },
     "metadata": {
      "needs_background": "light"
     },
     "output_type": "display_data"
    }
   ],
   "source": [
    "plt.figure(figsize=(10,6))\n",
    "plt.plot(BondPrices[\"Maturity\"], ytmArray, 'bo')\n",
    "plt.xlabel('time To Maturity')  \n",
    "plt.ylabel('YTM')\n",
    "plt.grid(True)\n",
    "plt.title(\" YTM \");\n",
    "plt.show()"
   ]
  },
  {
   "cell_type": "markdown",
   "metadata": {},
   "source": [
    "Let's add ytm's and Dirty Price (calculated with ytm) into the \"BondPrices\" dataframe and check they are all ok"
   ]
  },
  {
   "cell_type": "code",
   "execution_count": 15,
   "metadata": {},
   "outputs": [],
   "source": [
    "BondPrices[\"YTM\"]            = ytmArray\n",
    "BondPrices[\"DirtyPrice_YTM\"] = DirtyPrice_ytm"
   ]
  },
  {
   "cell_type": "code",
   "execution_count": 16,
   "metadata": {},
   "outputs": [
    {
     "name": "stdout",
     "output_type": "stream",
     "text": [
      "-2e-05\n"
     ]
    }
   ],
   "source": [
    "'''\n",
    "Are there any error?\n",
    "No! The DirtyPrice_YTM, calculated by discounting the bond cash flows with the ytm just\n",
    "calculated, should return the same Dirty Price!  \n",
    "'''\n",
    "print (np.round((np.sum(BondPrices[\"DirtyPrice_YTM\"] - BondPrices[\"Dirty Price\"])),5))"
   ]
  },
  {
   "cell_type": "code",
   "execution_count": 17,
   "metadata": {},
   "outputs": [
    {
     "name": "stdout",
     "output_type": "stream",
     "text": [
      "    Name  Dirty Price  Clean Price  AccruedInterest  Coupon   Maturity  \\\n",
      "0  Bond1    99.897834    99.897834              0.0     0.0 2000-12-07   \n",
      "1  Bond2    99.783604    99.783604              0.0     0.0 2000-12-14   \n",
      "\n",
      "        YTM  DirtyPrice_YTM  \n",
      "0  0.063163       99.897828  \n",
      "1  0.061759       99.783614  \n",
      "        Name  Dirty Price  Clean Price  AccruedInterest  Coupon   Maturity  \\\n",
      "127  Bond128    94.943105    93.402344         1.540761   5.250 2029-02-15   \n",
      "128  Bond129   107.766304   105.968750         1.797554   6.125 2029-08-15   \n",
      "\n",
      "          YTM  DirtyPrice_YTM  \n",
      "127  0.057198       94.943100  \n",
      "128  0.056961      107.766316  \n"
     ]
    }
   ],
   "source": [
    "print (BondPrices.head(2))\n",
    "print (BondPrices.tail(2))"
   ]
  },
  {
   "cell_type": "markdown",
   "metadata": {},
   "source": [
    "Let's write a class for the Nelson Siegel Svensson algo"
   ]
  },
  {
   "cell_type": "code",
   "execution_count": 18,
   "metadata": {},
   "outputs": [],
   "source": [
    "class NelsonSiegelModels(object):\n",
    "    def __init__(self, size):\n",
    "        self.r         = np.zeros(size)\n",
    "        self.df        = np.zeros(size)\n",
    "            \n",
    "    def Load_CF_Prices(self,time_, Cashflows_, Prices_):\n",
    "        self.time      = np.asarray(time_)\n",
    "        self.Cashflows = np.asarray(Cashflows_)\n",
    "        self.Prices    = np.asarray(Prices_)\n",
    "    \n",
    "    def set_ws(self,w_):\n",
    "        pass\n",
    "    \n",
    "    def set_NL(self,NL_):\n",
    "        pass\n",
    "        \n",
    "    def set_NL0(self,NL_):\n",
    "        pass\n",
    "\n",
    "    def set_NL1(self,NL_):\n",
    "        pass\n",
    "\n",
    "    def DF(self):\n",
    "        self.df = np.exp(-self.r * self.time)        \n",
    "        \n",
    "    def zerorate(self, t):\n",
    "        pass\n",
    "  \n",
    "    def ols(self, t):        \n",
    "        pass\n",
    "    \n",
    "    def Zerorates(self):\n",
    "        t      = self.time        \n",
    "        vfunc = np.vectorize(self.zerorate)        \n",
    "        self.r = vfunc(t)\n",
    "    \n",
    "    def loss(self, w):\n",
    "        self.w = w\n",
    "        self.Zerorates()\n",
    "        self.DF()       \n",
    "        Ax     = np.transpose(self.df).dot(self.Cashflows)\n",
    "        error  = (self.Prices - Ax)**2                \n",
    "        return np.mean(error)\n",
    "    \n",
    "    def Calibrate(self, initialguess):\n",
    "        self.opt_results = optimize.minimize(self.loss,np.array(initialguess),jac=False,tol=1e-13,method='L-BFGS-B')\n",
    "        self.w           = self.opt_results.x "
   ]
  },
  {
   "cell_type": "code",
   "execution_count": 19,
   "metadata": {},
   "outputs": [],
   "source": [
    "class NelsonSiegelSvensson(NelsonSiegelModels):\n",
    "    def __init__(self, size):\n",
    "        NelsonSiegelModels.__init__(self, size)\n",
    "        self.NL  = np.zeros(2)\n",
    "        self.w   = np.zeros(4)\n",
    "    \n",
    "    def set_ws(self,w_):\n",
    "        self.w = w_\n",
    "    \n",
    "    def set_NL0(self,NL_):\n",
    "        self.NL[0] = NL_\n",
    "\n",
    "    def set_NL1(self,NL_):\n",
    "        self.NL[1] = NL_\n",
    "   \n",
    "    def zerorate(self, t):\n",
    "        vec = self.ols(t)        \n",
    "        return self.w[0]*vec[0] + self.w[1] * vec[1] + self.w[2] * vec[2] + self.w[3] * vec[3]\n",
    "    \n",
    "    def ols(self, t):        \n",
    "        a = 1.0\n",
    "        b = ( (1-np.exp(-t/self.NL[0])) / (t/self.NL[0]))\n",
    "        c = ( (1-np.exp(-t/self.NL[0])) / (t/self.NL[0]) - np.exp(-t/self.NL[0]) ) \n",
    "        d = ( (1-np.exp(-t/self.NL[1])) / (t/self.NL[1]) - np.exp(-t/self.NL[1]) )\n",
    "        return np.asarray([a, b, c, d])"
   ]
  },
  {
   "cell_type": "code",
   "execution_count": 20,
   "metadata": {},
   "outputs": [],
   "source": [
    "# and let's do the same for the Nelson Siegel algo\n",
    "class NelsonSiegel(NelsonSiegelModels):\n",
    "    def __init__(self, size):\n",
    "        NelsonSiegelModels.__init__(self, size)\n",
    "        self.NL  = np.zeros(1)\n",
    "        self.w   = np.zeros(3)\n",
    "            \n",
    "    def set_ws(self, w_):\n",
    "        self.w = w_\n",
    "        \n",
    "    def set_NL(self,NL_):\n",
    "        self.NL = [NL_]\n",
    "                \n",
    "    def zerorate(self, t):        \n",
    "        vec = self.ols(t)\n",
    "        return self.w[0] * vec[0] + self.w[1] * vec[1] + self.w[2] * vec[2]\n",
    "    \n",
    "    def ols(self, t):\n",
    "        a = 1.0\n",
    "        b = ( (1-np.exp(-t/self.NL[0])) / (t/self.NL[0]) )\n",
    "        c = ( (1-np.exp(-t/self.NL[0])) / (t/self.NL[0]) - np.exp(-t/self.NL[0]))        \n",
    "        return np.asarray([a, b, c])"
   ]
  },
  {
   "cell_type": "markdown",
   "metadata": {},
   "source": [
    "Let's check the class NelsonSiegelSvensson works.\n",
    "\n",
    "1 - We instantiate an object of type \"NelsonSiegelSvensson\"\n",
    "\n",
    "2 - We load a set of parameters\n",
    "\n",
    "3 - We print the zero rate with a maturity of 1 year and 30 year\n",
    "\n",
    "4 - we run the methods: Zerorates() and DF()\n",
    "\n",
    "5 - and then multiply the object df by Cashflows. This should calculate Dirty Prices which we can compare with the Dirty Prices in our dataframe \"BondPrices\""
   ]
  },
  {
   "cell_type": "code",
   "execution_count": 21,
   "metadata": {},
   "outputs": [
    {
     "data": {
      "text/plain": [
       "213"
      ]
     },
     "execution_count": 21,
     "metadata": {},
     "output_type": "execute_result"
    }
   ],
   "source": [
    "len(TimeValue)"
   ]
  },
  {
   "cell_type": "code",
   "execution_count": 22,
   "metadata": {},
   "outputs": [
    {
     "name": "stdout",
     "output_type": "stream",
     "text": [
      "0.03103638323514326\n",
      "0.058666666666665854\n"
     ]
    }
   ],
   "source": [
    "# 1\n",
    "nss = NelsonSiegelSvensson(len(TimeValue))\n",
    "nss.Load_CF_Prices(TimeValue, CFs, DirtyPrices )\n",
    "# 2\n",
    "nss.set_ws([0.06,-0.05,-.2,0.21])\n",
    "nss.set_NL0(1.0)\n",
    "nss.set_NL1(1.0)\n",
    "\n",
    "# 3\n",
    "print (nss.zerorate(1))\n",
    "print (nss.zerorate(30))"
   ]
  },
  {
   "cell_type": "code",
   "execution_count": 23,
   "metadata": {},
   "outputs": [],
   "source": [
    "# 4 \n",
    "nss.Zerorates()\n",
    "nss.DF()\n",
    "\n",
    "# 5\n",
    "Ax  = np.transpose(nss.df).dot(nss.Cashflows)\n",
    "BondPrices[\"DirtyPrice_NSS\"] = Ax"
   ]
  },
  {
   "cell_type": "code",
   "execution_count": 24,
   "metadata": {},
   "outputs": [
    {
     "name": "stdout",
     "output_type": "stream",
     "text": [
      "188.58183\n"
     ]
    }
   ],
   "source": [
    "# What it the error sum of the differences?\n",
    "print (np.round((np.sum(BondPrices[\"DirtyPrice_NSS\"] - BondPrices[\"Dirty Price\"])),5))"
   ]
  },
  {
   "cell_type": "markdown",
   "metadata": {},
   "source": [
    "CAN WE DO BETTER?\n",
    "\n",
    "You might have noticed but when we instantiated the classes NelsonSiegelSvensson and NelsonSiegel, we set $T1$ and $T2$ to 1!\n",
    "\n",
    "First we try to \"do better\" by keeping $T1$ and $T2$ at 1!"
   ]
  },
  {
   "cell_type": "code",
   "execution_count": 25,
   "metadata": {},
   "outputs": [],
   "source": [
    "nss.set_NL0(1.0)\n",
    "nss.set_NL1(1.0)\n",
    "nss.Calibrate([0.06,-0.05, -0.2,0.21])\n",
    "\n",
    "ns = NelsonSiegel(len(TimeValue))\n",
    "ns.Load_CF_Prices(TimeValue, CFs, DirtyPrices )\n",
    "ns.set_NL(1.0)\n",
    "ns.Calibrate([0.06, -0.05, -0.20]) "
   ]
  },
  {
   "cell_type": "markdown",
   "metadata": {},
   "source": [
    "To print both NS and NSS parameters. We also use a function to apply print options locally"
   ]
  },
  {
   "cell_type": "code",
   "execution_count": 26,
   "metadata": {},
   "outputs": [
    {
     "name": "stdout",
     "output_type": "stream",
     "text": [
      "[ 0.058  0.015 -0.221  0.189]\n",
      "[ 0.058  0.015 -0.033]\n"
     ]
    }
   ],
   "source": [
    "import contextlib\n",
    "\n",
    "@contextlib.contextmanager\n",
    "def printoptions(*args, **kwargs):\n",
    "    original = np.get_printoptions()\n",
    "    np.set_printoptions(*args, **kwargs)\n",
    "    try:\n",
    "        yield\n",
    "    finally: \n",
    "        np.set_printoptions(**original)\n",
    "\n",
    "xss = nss.w\n",
    "with printoptions(precision=3, suppress=True):\n",
    "    print(xss)\n",
    "    \n",
    "xs = ns.w\n",
    "with printoptions(precision=3, suppress=True):\n",
    "    print(xs)    "
   ]
  },
  {
   "cell_type": "code",
   "execution_count": 27,
   "metadata": {},
   "outputs": [
    {
     "data": {
      "image/png": "[encoded data removed]",
      "text/plain": [
       "<Figure size 1440x720 with 2 Axes>"
      ]
     },
     "metadata": {
      "needs_background": "light"
     },
     "output_type": "display_data"
    }
   ],
   "source": [
    "plt.figure(figsize=(20,10))\n",
    "\n",
    "plt.subplot(1, 2, 1)\n",
    "plt.plot(ns.time, ns.r, lw=1.5)\n",
    "plt.xlabel('time To Maturity')  \n",
    "plt.ylabel('Continously Compounded Spot Rates')\n",
    "plt.grid(True)\n",
    "plt.title(\"Nelson Siegel\");\n",
    "\n",
    "plt.subplot(1, 2, 2)\n",
    "plt.plot(nss.time, nss.r, lw=1.5)\n",
    "plt.xlabel('time To Maturity')  \n",
    "plt.ylabel('Continously Compounded Spot Rates')\n",
    "plt.grid(True)\n",
    "plt.title(\"Nelson Siegel Svensson\");\n",
    "\n",
    "plt.show()"
   ]
  },
  {
   "cell_type": "code",
   "execution_count": 28,
   "metadata": {},
   "outputs": [
    {
     "data": {
      "image/png": "[encoded data removed]",
      "text/plain": [
       "<Figure size 1440x720 with 2 Axes>"
      ]
     },
     "metadata": {
      "needs_background": "light"
     },
     "output_type": "display_data"
    }
   ],
   "source": [
    "plt.figure(figsize=(20,10))\n",
    "\n",
    "plt.subplot(1, 2, 1)\n",
    "plt.plot(ns.time, ns.df, lw=1.5)\n",
    "plt.xlabel('time To Maturity')  \n",
    "plt.ylabel('Discount Factor')\n",
    "plt.grid(True)\n",
    "plt.title(\"Nelson Siegel\");\n",
    "\n",
    "plt.subplot(1, 2, 2)\n",
    "plt.plot(nss.time, nss.df, lw=1.5)\n",
    "plt.xlabel('time To Maturity')  \n",
    "plt.ylabel('Discount Factor')\n",
    "plt.grid(True)\n",
    "plt.title(\"Nelson Siegel Svensson\");\n",
    "\n",
    "plt.show()"
   ]
  },
  {
   "cell_type": "code",
   "execution_count": 29,
   "metadata": {},
   "outputs": [
    {
     "name": "stdout",
     "output_type": "stream",
     "text": [
      "-5.45693\n",
      "-5.45693\n"
     ]
    }
   ],
   "source": [
    "# Have we done better than before?\n",
    "Ax_nss = np.transpose(nss.df).dot(nss.Cashflows)\n",
    "Ax_ns  = np.transpose(ns.df).dot(ns.Cashflows)\n",
    "\n",
    "BondPrices[\"DirtyPrice_NSS\"] = Ax_nss\n",
    "BondPrices[\"DirtyPrice_NS\"]  = Ax_ns\n",
    "BondPrices[\"CleanPrice_NSS\"] = BondPrices[\"DirtyPrice_NSS\"] -  BondPrices[\"AccruedInterest\"]  \n",
    "BondPrices[\"CleanPrice_NS\"]  = BondPrices[\"DirtyPrice_NS\"]  -  BondPrices[\"AccruedInterest\"]  \n",
    "BondPrices[\"CleanPrice_Diff_NSS\"] = BondPrices[\"CleanPrice_NSS\"] -  BondPrices[\"Clean Price\"]\n",
    "BondPrices[\"CleanPrice_Diff_NS\"]  = BondPrices[\"CleanPrice_NS\"]  -  BondPrices[\"Clean Price\"]\n",
    "print (np.round((np.sum(BondPrices[\"DirtyPrice_NSS\"] - BondPrices[\"Dirty Price\"])),5))\n",
    "print (np.round((np.sum(BondPrices[\"DirtyPrice_NS\"]  - BondPrices[\"Dirty Price\"])),5))\n",
    "# Yes!!"
   ]
  },
  {
   "cell_type": "code",
   "execution_count": 30,
   "metadata": {},
   "outputs": [
    {
     "name": "stdout",
     "output_type": "stream",
     "text": [
      "0.5030744034967825\n",
      "-1.4936722969883363\n",
      "0.5030749157424168\n",
      "-1.4936712689438991\n"
     ]
    }
   ],
   "source": [
    "print (np.max(BondPrices[\"CleanPrice_Diff_NSS\"]))\n",
    "print (np.min(BondPrices[\"CleanPrice_Diff_NSS\"]))\n",
    "print (np.max(BondPrices[\"CleanPrice_Diff_NS\"]))\n",
    "print (np.min(BondPrices[\"CleanPrice_Diff_NS\"]))"
   ]
  },
  {
   "cell_type": "markdown",
   "metadata": {},
   "source": [
    "Not Bad so far!\n",
    "\n",
    "Let's now try to optimize both NS and NSS model with different starting values for $T1$ and $T2$. \n",
    "\n",
    "We hope to be able to run the final optimization and achieve better results. "
   ]
  },
  {
   "cell_type": "markdown",
   "metadata": {},
   "source": [
    "We begin with the NS algo"
   ]
  },
  {
   "cell_type": "code",
   "execution_count": 31,
   "metadata": {},
   "outputs": [],
   "source": [
    "Size         = 100\n",
    "xT1          = np.linspace(0.1, 5.0, num = Size)\n",
    "yNsPriceDiff = np.zeros((Size,2))\n",
    "\n",
    "for i, val in enumerate(xT1):\n",
    "    ns.set_NL(val)\n",
    "    ns.Calibrate([0.06, -0.05, -0.20])\n",
    "    \n",
    "    Ax_ns  = np.transpose(ns.df).dot(ns.Cashflows)    \n",
    "    res    = np.mean((Ax_ns - BondPrices[\"Dirty Price\"])**2)\n",
    "    if (res> 0.0001):\n",
    "        yNsPriceDiff[i,0] = res\n",
    "        yNsPriceDiff[i,1] = val\n",
    "    else:\n",
    "        print(\"error on xT1 \", val)"
   ]
  },
  {
   "cell_type": "code",
   "execution_count": 32,
   "metadata": {},
   "outputs": [
    {
     "data": {
      "image/png": "[encoded data removed]",
      "text/plain": [
       "<Figure size 720x432 with 1 Axes>"
      ]
     },
     "metadata": {
      "needs_background": "light"
     },
     "output_type": "display_data"
    }
   ],
   "source": [
    "plt.figure(figsize=(10,6))\n",
    "plt.plot(xT1, yNsPriceDiff[:,0], 'x', color='red', label ='Mean Square Errors with Nelson Siegel')\n",
    "plt.legend()\n",
    "plt.grid(True)\n",
    "plt.ylabel('Mean Squared Diff')\n",
    "plt.xlabel('T1')\n",
    "plt.title(\"Nelson Siegel Fitting \");        \n",
    "plt.show()"
   ]
  },
  {
   "cell_type": "code",
   "execution_count": 33,
   "metadata": {},
   "outputs": [
    {
     "name": "stdout",
     "output_type": "stream",
     "text": [
      "0.10974070069441773\n",
      "1.4858585858585862\n"
     ]
    }
   ],
   "source": [
    "# Let's find the T1 value where we achieve the lowest Mean Square Error\n",
    "minValue =  np.min(yNsPriceDiff[:,0])\n",
    "index    =  np.where(yNsPriceDiff[:,0]== minValue)\n",
    "valT1    =  yNsPriceDiff[index[0][0],1]\n",
    "print(minValue)\n",
    "print(valT1)"
   ]
  },
  {
   "cell_type": "code",
   "execution_count": 34,
   "metadata": {},
   "outputs": [],
   "source": [
    "# And use it as a starting value again\n",
    "ns.set_NL(valT1)\n",
    "ns.Calibrate([0.06, -0.05, -0.20])"
   ]
  },
  {
   "cell_type": "code",
   "execution_count": 35,
   "metadata": {},
   "outputs": [
    {
     "name": "stdout",
     "output_type": "stream",
     "text": [
      "[ 0.059  0.008 -0.025]\n"
     ]
    }
   ],
   "source": [
    "xs = ns.w\n",
    "with printoptions(precision=3, suppress=True):\n",
    "    print(xs)   "
   ]
  },
  {
   "cell_type": "code",
   "execution_count": 36,
   "metadata": {},
   "outputs": [
    {
     "data": {
      "image/png": "[encoded data removed]",
      "text/plain": [
       "<Figure size 1440x720 with 2 Axes>"
      ]
     },
     "metadata": {
      "needs_background": "light"
     },
     "output_type": "display_data"
    }
   ],
   "source": [
    "plt.figure(figsize=(20,10))\n",
    "\n",
    "plt.subplot(1, 2, 1)\n",
    "plt.plot(ns.time, ns.r, lw=1.5)\n",
    "plt.xlabel('time To Maturity')  \n",
    "plt.ylabel('Continously Compounded Spot Rates')\n",
    "plt.grid(True)\n",
    "plt.title(\"Nelson Siegel\");\n",
    "\n",
    "plt.subplot(1, 2, 2)\n",
    "plt.plot(ns.time, ns.df, lw=1.5)\n",
    "plt.xlabel('time To Maturity')  \n",
    "plt.ylabel('Discount Factor')\n",
    "plt.grid(True)\n",
    "plt.title(\"Nelson Siegel\");\n",
    "\n",
    "plt.show()"
   ]
  },
  {
   "cell_type": "code",
   "execution_count": 37,
   "metadata": {},
   "outputs": [
    {
     "name": "stdout",
     "output_type": "stream",
     "text": [
      "-3.90974\n"
     ]
    }
   ],
   "source": [
    "# Have we done better than before ?\n",
    "Ax_ns  = np.transpose(ns.df).dot(ns.Cashflows)\n",
    "BondPrices[\"DirtyPrice_NS\"]  = Ax_ns\n",
    "BondPrices[\"CleanPrice_NS\"]  = BondPrices[\"DirtyPrice_NS\"]  -  BondPrices[\"AccruedInterest\"]  \n",
    "BondPrices[\"CleanPrice_Diff_NS\"]  = BondPrices[\"CleanPrice_NS\"]  -  BondPrices[\"Clean Price\"]\n",
    "print (np.round((np.sum(BondPrices[\"DirtyPrice_NS\"]  - BondPrices[\"Dirty Price\"])),5))\n",
    "# Yes!!"
   ]
  },
  {
   "cell_type": "markdown",
   "metadata": {},
   "source": [
    "Let's do the same for the NSS model. As initial values we use the three betas of the NS model. We are still missing one, beta4. For this one we used 0.21   "
   ]
  },
  {
   "cell_type": "code",
   "execution_count": 38,
   "metadata": {},
   "outputs": [],
   "source": [
    "beta_4 = 0.21 # this is the initial value\n",
    "Size          = 100\n",
    "xT2           = np.linspace(0.01, 20.0, num = Size)\n",
    "yNssPriceDiff = np.zeros((Size,2))\n",
    "\n",
    "for i, val in enumerate(xT2):\n",
    "    nss.set_NL0(valT1)\n",
    "    nss.set_NL1(val)\n",
    "    nss.Calibrate(np.append(ns.w, beta_4))\n",
    "    \n",
    "    Ax_nss = np.transpose(nss.df).dot(nss.Cashflows)    \n",
    "    res    = np.mean((Ax_nss - BondPrices[\"Dirty Price\"])**2)\n",
    "    if (res> 0.0001):\n",
    "        yNssPriceDiff[i,0] = res\n",
    "        yNssPriceDiff[i,1] = val\n",
    "    else:\n",
    "        print(\"error on xT2 \", val)"
   ]
  },
  {
   "cell_type": "code",
   "execution_count": 39,
   "metadata": {},
   "outputs": [
    {
     "data": {
      "image/png": "[encoded data removed]",
      "text/plain": [
       "<Figure size 720x432 with 1 Axes>"
      ]
     },
     "metadata": {
      "needs_background": "light"
     },
     "output_type": "display_data"
    }
   ],
   "source": [
    "plt.figure(figsize=(10,6))\n",
    "plt.plot(xT2, yNssPriceDiff[:,0], 'x', color='red', label ='Mean Square Errors with Nelson Siegel Svensson')\n",
    "plt.legend()\n",
    "plt.grid(True)\n",
    "plt.ylabel('Mean Squared Diff')\n",
    "plt.xlabel('T2')\n",
    "plt.title(\"Nelson Siegel Svensson Fitting \");        \n",
    "plt.show()"
   ]
  },
  {
   "cell_type": "code",
   "execution_count": 40,
   "metadata": {},
   "outputs": [
    {
     "name": "stdout",
     "output_type": "stream",
     "text": [
      "0.02160832348694625\n",
      "12.73090909090909\n"
     ]
    }
   ],
   "source": [
    "# Let's find the T1 value where we achieve the lowest Mean Square Error\n",
    "minValue =  np.min(yNssPriceDiff[:,0])\n",
    "index    =  np.where(yNssPriceDiff[:,0]== minValue)\n",
    "valT2    =  yNssPriceDiff[index[0][0],1]\n",
    "print(minValue)\n",
    "print(valT2)"
   ]
  },
  {
   "cell_type": "code",
   "execution_count": 41,
   "metadata": {},
   "outputs": [],
   "source": [
    "# And use it as a starting value for T2 again, where for the other values we usewhat we found as \"optimal\" with the NS\n",
    "nss.set_NL0(valT1)\n",
    "nss.set_NL1(valT2)\n",
    "nss.Calibrate(np.append(ns.w, 0.21))"
   ]
  },
  {
   "cell_type": "code",
   "execution_count": 42,
   "metadata": {},
   "outputs": [
    {
     "name": "stdout",
     "output_type": "stream",
     "text": [
      "[0.019 0.042 0.021 0.115]\n"
     ]
    }
   ],
   "source": [
    "xss = nss.w\n",
    "with printoptions(precision=3, suppress=True):\n",
    "    print(xss)   "
   ]
  },
  {
   "cell_type": "code",
   "execution_count": 43,
   "metadata": {},
   "outputs": [
    {
     "data": {
      "image/png": "[encoded data removed]",
      "text/plain": [
       "<Figure size 720x432 with 1 Axes>"
      ]
     },
     "metadata": {
      "needs_background": "light"
     },
     "output_type": "display_data"
    }
   ],
   "source": [
    "plt.figure(figsize=(10,6))\n",
    "plt.plot(nss.time, nss.r, lw=1.5, color='blue', label ='NSS')\n",
    "plt.plot(ns.time, ns.r, lw=1.5,   color='red', label ='NS')\n",
    "plt.legend()\n",
    "plt.xlabel('time To Maturity')  \n",
    "plt.ylabel('Continously Compounded Spot Rates')\n",
    "plt.grid(True)\n",
    "plt.title(\"Nelson Siegel and Nelson Siegel Svensson\");\n",
    "plt.show()"
   ]
  },
  {
   "cell_type": "code",
   "execution_count": 44,
   "metadata": {},
   "outputs": [
    {
     "data": {
      "image/png": "[encoded data removed]",
      "text/plain": [
       "<Figure size 720x432 with 1 Axes>"
      ]
     },
     "metadata": {
      "needs_background": "light"
     },
     "output_type": "display_data"
    }
   ],
   "source": [
    "plt.figure(figsize=(10,6))\n",
    "plt.plot(nss.time, nss.df, lw=1.5, color='blue', label ='NSS')\n",
    "plt.plot(ns.time, ns.df, lw=1.5,   color='red', label ='NS')\n",
    "plt.legend()\n",
    "plt.xlabel('time To Maturity')  \n",
    "plt.ylabel('Discount Factor')\n",
    "plt.grid(True)\n",
    "plt.title(\"Nelson Siegel and Nelson Siegel Svensson\");\n",
    "plt.show()\n"
   ]
  },
  {
   "cell_type": "code",
   "execution_count": 45,
   "metadata": {},
   "outputs": [
    {
     "name": "stdout",
     "output_type": "stream",
     "text": [
      "0.61864\n"
     ]
    }
   ],
   "source": [
    "# Have we done better than with the NS model?\n",
    "Ax_nss  = np.transpose(nss.df).dot(nss.Cashflows)\n",
    "BondPrices[\"DirtyPrice_NSS\"]  = Ax_nss\n",
    "BondPrices[\"CleanPrice_NSS\"]  = BondPrices[\"DirtyPrice_NSS\"]  -  BondPrices[\"AccruedInterest\"]  \n",
    "BondPrices[\"CleanPrice_Diff_NSS\"]  = BondPrices[\"CleanPrice_NSS\"]  -  BondPrices[\"Clean Price\"]\n",
    "print (np.round((np.sum(BondPrices[\"DirtyPrice_NSS\"]  - BondPrices[\"Dirty Price\"])),5))\n",
    "# Yes!!"
   ]
  },
  {
   "cell_type": "code",
   "execution_count": 46,
   "metadata": {},
   "outputs": [
    {
     "name": "stdout",
     "output_type": "stream",
     "text": [
      "NSS Range [ -0.867 ; 0.389 ]\n",
      "NS  Range [ -1.621 ; 0.516 ]\n"
     ]
    }
   ],
   "source": [
    "# Range between the min and max difference  \n",
    "maxNSS = np.round(np.max(BondPrices[\"CleanPrice_Diff_NSS\"]),3)\n",
    "minNSS = np.round(np.min(BondPrices[\"CleanPrice_Diff_NSS\"]),3)\n",
    "\n",
    "maxNS = np.round(np.max(BondPrices[\"CleanPrice_Diff_NS\"]),3)\n",
    "minNS = np.round(np.min(BondPrices[\"CleanPrice_Diff_NS\"]),3)\n",
    "\n",
    "print (\"NSS Range [\",minNSS,\";\", maxNSS,\"]\")\n",
    "print (\"NS  Range [\",minNS,\";\", maxNS,\"]\")"
   ]
  },
  {
   "cell_type": "code",
   "execution_count": 47,
   "metadata": {},
   "outputs": [
    {
     "name": "stdout",
     "output_type": "stream",
     "text": [
      "[ 0.019  0.042  0.021  0.115  1.486 12.731]\n",
      "[ 0.059  0.008 -0.025  1.486]\n"
     ]
    }
   ],
   "source": [
    "#let's print the fitted values for NSS model\n",
    "NSS_Value = np.append(nss.w, [valT1, valT2])\n",
    "with printoptions(precision=3, suppress=True):\n",
    "    print(NSS_Value) \n",
    "\n",
    "# for NS model\n",
    "NS_Value = np.append(ns.w, valT1)\n",
    "with printoptions(precision=3, suppress=True):\n",
    "    print(NS_Value) "
   ]
  },
  {
   "cell_type": "markdown",
   "metadata": {},
   "source": [
    "Below, we compare the fitting achieved with both models. NSS does a better job!"
   ]
  },
  {
   "cell_type": "code",
   "execution_count": 48,
   "metadata": {
    "scrolled": false
   },
   "outputs": [
    {
     "data": {
      "image/png": "[encoded data removed]",
      "text/plain": [
       "<Figure size 1440x720 with 2 Axes>"
      ]
     },
     "metadata": {
      "needs_background": "light"
     },
     "output_type": "display_data"
    }
   ],
   "source": [
    "plt.figure(figsize=(20,10))\n",
    "\n",
    "plt.subplot(1, 2, 1)\n",
    "plt.plot(BondPrices[\"CleanPrice_NSS\"],  'x', color='red', label ='CleanPrices_NSS')\n",
    "plt.plot(BondPrices[\"Clean Price\"],  '+', color='green'  ,label ='Clean Price')\n",
    "plt.legend()\n",
    "plt.grid(True)\n",
    "plt.ylabel('Bond No.')\n",
    "plt.ylabel('Clean Prices')\n",
    "plt.title(\"Nelson Siegel Svensson Fitting \");        \n",
    "\n",
    "plt.subplot(1, 2, 2)\n",
    "plt.plot(BondPrices[\"CleanPrice_NS\"],   'x', color='blue', label ='CleanPrices_NS')\n",
    "plt.plot(BondPrices[\"Clean Price\"],  '+', color='green'  ,label ='Clean Price')\n",
    "plt.legend()\n",
    "plt.grid(True)\n",
    "plt.ylabel('Bond No.')\n",
    "plt.ylabel('Clean Prices')\n",
    "plt.title(\"Nelson Siegel Fitting \");        \n",
    "\n",
    "plt.show()"
   ]
  },
  {
   "cell_type": "markdown",
   "metadata": {},
   "source": [
    "Now we can sort the bonds by the cheapest and the most expensive, by comparing the Clean Price vs the one we calculated with the NSS algo, called CleanPrice_NSS. For example we may want to short the most expensive and buy the cheapest, if you believe in the NSS model! "
   ]
  },
  {
   "cell_type": "code",
   "execution_count": 49,
   "metadata": {},
   "outputs": [
    {
     "data": {
      "text/html": [
       "<div>\n",
       "<style scoped>\n",
       "    .dataframe tbody tr th:only-of-type {\n",
       "        vertical-align: middle;\n",
       "    }\n",
       "\n",
       "    .dataframe tbody tr th {\n",
       "        vertical-align: top;\n",
       "    }\n",
       "\n",
       "    .dataframe thead th {\n",
       "        text-align: right;\n",
       "    }\n",
       "</style>\n",
       "<table border=\"1\" class=\"dataframe\">\n",
       "  <thead>\n",
       "    <tr style=\"text-align: right;\">\n",
       "      <th></th>\n",
       "      <th>Name</th>\n",
       "      <th>Dirty Price</th>\n",
       "      <th>Clean Price</th>\n",
       "      <th>AccruedInterest</th>\n",
       "      <th>Coupon</th>\n",
       "      <th>Maturity</th>\n",
       "      <th>YTM</th>\n",
       "      <th>DirtyPrice_YTM</th>\n",
       "      <th>DirtyPrice_NSS</th>\n",
       "      <th>DirtyPrice_NS</th>\n",
       "      <th>CleanPrice_NSS</th>\n",
       "      <th>CleanPrice_NS</th>\n",
       "      <th>CleanPrice_Diff_NSS</th>\n",
       "      <th>CleanPrice_Diff_NS</th>\n",
       "    </tr>\n",
       "  </thead>\n",
       "  <tbody>\n",
       "    <tr>\n",
       "      <th>92</th>\n",
       "      <td>Bond93</td>\n",
       "      <td>103.421875</td>\n",
       "      <td>101.734375</td>\n",
       "      <td>1.687500</td>\n",
       "      <td>5.750</td>\n",
       "      <td>2010-08-15</td>\n",
       "      <td>0.055137</td>\n",
       "      <td>103.421880</td>\n",
       "      <td>102.554426</td>\n",
       "      <td>102.202764</td>\n",
       "      <td>100.866926</td>\n",
       "      <td>100.515264</td>\n",
       "      <td>-0.867449</td>\n",
       "      <td>-1.219111</td>\n",
       "    </tr>\n",
       "    <tr>\n",
       "      <th>128</th>\n",
       "      <td>Bond129</td>\n",
       "      <td>107.766304</td>\n",
       "      <td>105.968750</td>\n",
       "      <td>1.797554</td>\n",
       "      <td>6.125</td>\n",
       "      <td>2029-08-15</td>\n",
       "      <td>0.056961</td>\n",
       "      <td>107.766316</td>\n",
       "      <td>107.191357</td>\n",
       "      <td>106.145729</td>\n",
       "      <td>105.393803</td>\n",
       "      <td>104.348174</td>\n",
       "      <td>-0.574947</td>\n",
       "      <td>-1.620576</td>\n",
       "    </tr>\n",
       "    <tr>\n",
       "      <th>78</th>\n",
       "      <td>Bond79</td>\n",
       "      <td>101.597894</td>\n",
       "      <td>101.343750</td>\n",
       "      <td>0.254144</td>\n",
       "      <td>5.750</td>\n",
       "      <td>2005-11-15</td>\n",
       "      <td>0.054336</td>\n",
       "      <td>101.597899</td>\n",
       "      <td>101.295672</td>\n",
       "      <td>101.086663</td>\n",
       "      <td>101.041528</td>\n",
       "      <td>100.832519</td>\n",
       "      <td>-0.302222</td>\n",
       "      <td>-0.511231</td>\n",
       "    </tr>\n",
       "    <tr>\n",
       "      <th>91</th>\n",
       "      <td>Bond92</td>\n",
       "      <td>108.505265</td>\n",
       "      <td>106.597656</td>\n",
       "      <td>1.907609</td>\n",
       "      <td>6.500</td>\n",
       "      <td>2010-02-15</td>\n",
       "      <td>0.055688</td>\n",
       "      <td>108.505277</td>\n",
       "      <td>108.208958</td>\n",
       "      <td>107.793823</td>\n",
       "      <td>106.301350</td>\n",
       "      <td>105.886214</td>\n",
       "      <td>-0.296306</td>\n",
       "      <td>-0.711442</td>\n",
       "    </tr>\n",
       "    <tr>\n",
       "      <th>127</th>\n",
       "      <td>Bond128</td>\n",
       "      <td>94.943105</td>\n",
       "      <td>93.402344</td>\n",
       "      <td>1.540761</td>\n",
       "      <td>5.250</td>\n",
       "      <td>2029-02-15</td>\n",
       "      <td>0.057198</td>\n",
       "      <td>94.943100</td>\n",
       "      <td>94.673024</td>\n",
       "      <td>93.756385</td>\n",
       "      <td>93.132264</td>\n",
       "      <td>92.215625</td>\n",
       "      <td>-0.270080</td>\n",
       "      <td>-1.186719</td>\n",
       "    </tr>\n",
       "  </tbody>\n",
       "</table>\n",
       "</div>"
      ],
      "text/plain": [
       "        Name  Dirty Price  Clean Price  AccruedInterest  Coupon   Maturity  \\\n",
       "92    Bond93   103.421875   101.734375         1.687500   5.750 2010-08-15   \n",
       "128  Bond129   107.766304   105.968750         1.797554   6.125 2029-08-15   \n",
       "78    Bond79   101.597894   101.343750         0.254144   5.750 2005-11-15   \n",
       "91    Bond92   108.505265   106.597656         1.907609   6.500 2010-02-15   \n",
       "127  Bond128    94.943105    93.402344         1.540761   5.250 2029-02-15   \n",
       "\n",
       "          YTM  DirtyPrice_YTM  DirtyPrice_NSS  DirtyPrice_NS  CleanPrice_NSS  \\\n",
       "92   0.055137      103.421880      102.554426     102.202764      100.866926   \n",
       "128  0.056961      107.766316      107.191357     106.145729      105.393803   \n",
       "78   0.054336      101.597899      101.295672     101.086663      101.041528   \n",
       "91   0.055688      108.505277      108.208958     107.793823      106.301350   \n",
       "127  0.057198       94.943100       94.673024      93.756385       93.132264   \n",
       "\n",
       "     CleanPrice_NS  CleanPrice_Diff_NSS  CleanPrice_Diff_NS  \n",
       "92      100.515264            -0.867449           -1.219111  \n",
       "128     104.348174            -0.574947           -1.620576  \n",
       "78      100.832519            -0.302222           -0.511231  \n",
       "91      105.886214            -0.296306           -0.711442  \n",
       "127      92.215625            -0.270080           -1.186719  "
      ]
     },
     "execution_count": 49,
     "metadata": {},
     "output_type": "execute_result"
    }
   ],
   "source": [
    "BondPrices.sort_values(by='CleanPrice_Diff_NSS',ascending=1).head(5)"
   ]
  },
  {
   "cell_type": "code",
   "execution_count": 50,
   "metadata": {},
   "outputs": [
    {
     "data": {
      "text/html": [
       "<div>\n",
       "<style scoped>\n",
       "    .dataframe tbody tr th:only-of-type {\n",
       "        vertical-align: middle;\n",
       "    }\n",
       "\n",
       "    .dataframe tbody tr th {\n",
       "        vertical-align: top;\n",
       "    }\n",
       "\n",
       "    .dataframe thead th {\n",
       "        text-align: right;\n",
       "    }\n",
       "</style>\n",
       "<table border=\"1\" class=\"dataframe\">\n",
       "  <thead>\n",
       "    <tr style=\"text-align: right;\">\n",
       "      <th></th>\n",
       "      <th>Name</th>\n",
       "      <th>Dirty Price</th>\n",
       "      <th>Clean Price</th>\n",
       "      <th>AccruedInterest</th>\n",
       "      <th>Coupon</th>\n",
       "      <th>Maturity</th>\n",
       "      <th>YTM</th>\n",
       "      <th>DirtyPrice_YTM</th>\n",
       "      <th>DirtyPrice_NSS</th>\n",
       "      <th>DirtyPrice_NS</th>\n",
       "      <th>CleanPrice_NSS</th>\n",
       "      <th>CleanPrice_NS</th>\n",
       "      <th>CleanPrice_Diff_NSS</th>\n",
       "      <th>CleanPrice_Diff_NS</th>\n",
       "    </tr>\n",
       "  </thead>\n",
       "  <tbody>\n",
       "    <tr>\n",
       "      <th>81</th>\n",
       "      <td>Bond82</td>\n",
       "      <td>109.394022</td>\n",
       "      <td>106.750000</td>\n",
       "      <td>2.644022</td>\n",
       "      <td>7.000</td>\n",
       "      <td>2006-07-15</td>\n",
       "      <td>0.055830</td>\n",
       "      <td>109.394015</td>\n",
       "      <td>109.783228</td>\n",
       "      <td>109.456622</td>\n",
       "      <td>107.139206</td>\n",
       "      <td>106.812600</td>\n",
       "      <td>0.389206</td>\n",
       "      <td>0.062600</td>\n",
       "    </tr>\n",
       "    <tr>\n",
       "      <th>82</th>\n",
       "      <td>Bond83</td>\n",
       "      <td>105.401786</td>\n",
       "      <td>104.562500</td>\n",
       "      <td>0.839286</td>\n",
       "      <td>6.500</td>\n",
       "      <td>2006-10-15</td>\n",
       "      <td>0.055736</td>\n",
       "      <td>105.401797</td>\n",
       "      <td>105.746476</td>\n",
       "      <td>105.383881</td>\n",
       "      <td>104.907191</td>\n",
       "      <td>104.544596</td>\n",
       "      <td>0.344691</td>\n",
       "      <td>-0.017904</td>\n",
       "    </tr>\n",
       "    <tr>\n",
       "      <th>80</th>\n",
       "      <td>Bond81</td>\n",
       "      <td>106.401523</td>\n",
       "      <td>106.097656</td>\n",
       "      <td>0.303867</td>\n",
       "      <td>6.875</td>\n",
       "      <td>2006-05-15</td>\n",
       "      <td>0.055641</td>\n",
       "      <td>106.401530</td>\n",
       "      <td>106.693039</td>\n",
       "      <td>106.394619</td>\n",
       "      <td>106.389172</td>\n",
       "      <td>106.090752</td>\n",
       "      <td>0.291516</td>\n",
       "      <td>-0.006904</td>\n",
       "    </tr>\n",
       "    <tr>\n",
       "      <th>83</th>\n",
       "      <td>Bond84</td>\n",
       "      <td>105.388926</td>\n",
       "      <td>103.554687</td>\n",
       "      <td>1.834239</td>\n",
       "      <td>6.250</td>\n",
       "      <td>2007-02-15</td>\n",
       "      <td>0.055593</td>\n",
       "      <td>105.388936</td>\n",
       "      <td>105.647408</td>\n",
       "      <td>105.242627</td>\n",
       "      <td>103.813169</td>\n",
       "      <td>103.408387</td>\n",
       "      <td>0.258482</td>\n",
       "      <td>-0.146300</td>\n",
       "    </tr>\n",
       "    <tr>\n",
       "      <th>84</th>\n",
       "      <td>Bond85</td>\n",
       "      <td>106.015474</td>\n",
       "      <td>105.722656</td>\n",
       "      <td>0.292818</td>\n",
       "      <td>6.625</td>\n",
       "      <td>2007-05-15</td>\n",
       "      <td>0.055581</td>\n",
       "      <td>106.015466</td>\n",
       "      <td>106.249834</td>\n",
       "      <td>105.818369</td>\n",
       "      <td>105.957016</td>\n",
       "      <td>105.525551</td>\n",
       "      <td>0.234360</td>\n",
       "      <td>-0.197105</td>\n",
       "    </tr>\n",
       "  </tbody>\n",
       "</table>\n",
       "</div>"
      ],
      "text/plain": [
       "      Name  Dirty Price  Clean Price  AccruedInterest  Coupon   Maturity  \\\n",
       "81  Bond82   109.394022   106.750000         2.644022   7.000 2006-07-15   \n",
       "82  Bond83   105.401786   104.562500         0.839286   6.500 2006-10-15   \n",
       "80  Bond81   106.401523   106.097656         0.303867   6.875 2006-05-15   \n",
       "83  Bond84   105.388926   103.554687         1.834239   6.250 2007-02-15   \n",
       "84  Bond85   106.015474   105.722656         0.292818   6.625 2007-05-15   \n",
       "\n",
       "         YTM  DirtyPrice_YTM  DirtyPrice_NSS  DirtyPrice_NS  CleanPrice_NSS  \\\n",
       "81  0.055830      109.394015      109.783228     109.456622      107.139206   \n",
       "82  0.055736      105.401797      105.746476     105.383881      104.907191   \n",
       "80  0.055641      106.401530      106.693039     106.394619      106.389172   \n",
       "83  0.055593      105.388936      105.647408     105.242627      103.813169   \n",
       "84  0.055581      106.015466      106.249834     105.818369      105.957016   \n",
       "\n",
       "    CleanPrice_NS  CleanPrice_Diff_NSS  CleanPrice_Diff_NS  \n",
       "81     106.812600             0.389206            0.062600  \n",
       "82     104.544596             0.344691           -0.017904  \n",
       "80     106.090752             0.291516           -0.006904  \n",
       "83     103.408387             0.258482           -0.146300  \n",
       "84     105.525551             0.234360           -0.197105  "
      ]
     },
     "execution_count": 50,
     "metadata": {},
     "output_type": "execute_result"
    }
   ],
   "source": [
    "BondPrices.sort_values(by='CleanPrice_Diff_NSS',ascending=0).head(5)"
   ]
  },
  {
   "cell_type": "markdown",
   "metadata": {},
   "source": [
    "Let's save to a csv file the spot rates as calculated by NSS and NS"
   ]
  },
  {
   "cell_type": "code",
   "execution_count": 51,
   "metadata": {},
   "outputs": [],
   "source": [
    "no = 56\n",
    "times         = np.linspace(0.5, 28, num = no)\n",
    "spotRates_NSS = np.zeros(no)\n",
    "spotRates_NS  = np.zeros(no)\n",
    "for i, val in enumerate(times): \n",
    "    spotRates_NSS[i]= nss.zerorate(val)\n",
    "    spotRates_NS[i] = ns.zerorate(val)\n",
    "\n",
    "dfSpotRates         = np.vstack((times, spotRates_NS, spotRates_NSS)).T \n",
    "dfSpotRates         = pd.DataFrame(dfSpotRates)\n",
    "dfSpotRates.columns =  ['Times','SpotRates_NS','SpotRates_NSS']\n",
    "dfSpotRates.to_csv('SpotRates.csv')"
   ]
  }
 ],
 "metadata": {
  "kernelspec": {
   "display_name": "Python 3",
   "language": "python",
   "name": "python3"
  },
  "language_info": {
   "codemirror_mode": {
    "name": "ipython",
    "version": 3
   },
   "file_extension": ".py",
   "mimetype": "text/x-python",
   "name": "python",
   "nbconvert_exporter": "python",
   "pygments_lexer": "ipython3",
   "version": "3.6.4"
  }
 },
 "nbformat": 4,
 "nbformat_minor": 2
}
